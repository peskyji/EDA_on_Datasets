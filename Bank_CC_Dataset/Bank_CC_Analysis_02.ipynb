{
 "cells": [
  {
   "cell_type": "code",
   "execution_count": 1,
   "id": "da335188",
   "metadata": {},
   "outputs": [],
   "source": [
    "import pandas as pd\n",
    "import matplotlib.pyplot as plt\n",
    "import seaborn as sns\n",
    "import plotly.express as px"
   ]
  },
  {
   "cell_type": "code",
   "execution_count": 2,
   "id": "04e627b5",
   "metadata": {},
   "outputs": [
    {
     "data": {
      "text/html": [
       "<div>\n",
       "<style scoped>\n",
       "    .dataframe tbody tr th:only-of-type {\n",
       "        vertical-align: middle;\n",
       "    }\n",
       "\n",
       "    .dataframe tbody tr th {\n",
       "        vertical-align: top;\n",
       "    }\n",
       "\n",
       "    .dataframe thead th {\n",
       "        text-align: right;\n",
       "    }\n",
       "</style>\n",
       "<table border=\"1\" class=\"dataframe\">\n",
       "  <thead>\n",
       "    <tr style=\"text-align: right;\">\n",
       "      <th></th>\n",
       "      <th>ID</th>\n",
       "      <th>Gender</th>\n",
       "      <th>Age</th>\n",
       "      <th>Region_Code</th>\n",
       "      <th>Occupation</th>\n",
       "      <th>Channel_Code</th>\n",
       "      <th>Vintage</th>\n",
       "      <th>Credit_Product</th>\n",
       "      <th>Avg_Account_Balance</th>\n",
       "      <th>Is_Active</th>\n",
       "      <th>Is_Lead</th>\n",
       "    </tr>\n",
       "  </thead>\n",
       "  <tbody>\n",
       "    <tr>\n",
       "      <th>0</th>\n",
       "      <td>NNVBBKZB</td>\n",
       "      <td>Female</td>\n",
       "      <td>73</td>\n",
       "      <td>RG268</td>\n",
       "      <td>Other</td>\n",
       "      <td>X3</td>\n",
       "      <td>43</td>\n",
       "      <td>No</td>\n",
       "      <td>1045696</td>\n",
       "      <td>No</td>\n",
       "      <td>0</td>\n",
       "    </tr>\n",
       "    <tr>\n",
       "      <th>1</th>\n",
       "      <td>IDD62UNG</td>\n",
       "      <td>Female</td>\n",
       "      <td>30</td>\n",
       "      <td>RG277</td>\n",
       "      <td>Salaried</td>\n",
       "      <td>X1</td>\n",
       "      <td>32</td>\n",
       "      <td>No</td>\n",
       "      <td>581988</td>\n",
       "      <td>No</td>\n",
       "      <td>0</td>\n",
       "    </tr>\n",
       "  </tbody>\n",
       "</table>\n",
       "</div>"
      ],
      "text/plain": [
       "         ID  Gender  Age Region_Code Occupation Channel_Code  Vintage  \\\n",
       "0  NNVBBKZB  Female   73       RG268      Other           X3       43   \n",
       "1  IDD62UNG  Female   30       RG277   Salaried           X1       32   \n",
       "\n",
       "  Credit_Product  Avg_Account_Balance Is_Active  Is_Lead  \n",
       "0             No              1045696        No        0  \n",
       "1             No               581988        No        0  "
      ]
     },
     "execution_count": 2,
     "metadata": {},
     "output_type": "execute_result"
    }
   ],
   "source": [
    "#url = 'https://raw.githubusercontent.com/peskyji/EDA_on_Datasets/main/Bank_CC_Dataset/train_data.csv''\n",
    "train_df = pd.read_csv('train_data.csv')\n",
    "train_df.head(2)"
   ]
  },
  {
   "cell_type": "code",
   "execution_count": 3,
   "id": "81ab15ce",
   "metadata": {},
   "outputs": [
    {
     "data": {
      "text/plain": [
       "(245725, 11)"
      ]
     },
     "execution_count": 3,
     "metadata": {},
     "output_type": "execute_result"
    }
   ],
   "source": [
    "train_df.shape"
   ]
  },
  {
   "cell_type": "code",
   "execution_count": 4,
   "id": "c545d0b1",
   "metadata": {},
   "outputs": [
    {
     "data": {
      "text/html": [
       "<div>\n",
       "<style scoped>\n",
       "    .dataframe tbody tr th:only-of-type {\n",
       "        vertical-align: middle;\n",
       "    }\n",
       "\n",
       "    .dataframe tbody tr th {\n",
       "        vertical-align: top;\n",
       "    }\n",
       "\n",
       "    .dataframe thead th {\n",
       "        text-align: right;\n",
       "    }\n",
       "</style>\n",
       "<table border=\"1\" class=\"dataframe\">\n",
       "  <thead>\n",
       "    <tr style=\"text-align: right;\">\n",
       "      <th></th>\n",
       "      <th>ID</th>\n",
       "      <th>Gender</th>\n",
       "      <th>Age</th>\n",
       "      <th>Region_Code</th>\n",
       "      <th>Occupation</th>\n",
       "      <th>Channel_Code</th>\n",
       "      <th>Vintage</th>\n",
       "      <th>Credit_Product</th>\n",
       "      <th>Avg_Account_Balance</th>\n",
       "      <th>Is_Active</th>\n",
       "    </tr>\n",
       "  </thead>\n",
       "  <tbody>\n",
       "    <tr>\n",
       "      <th>0</th>\n",
       "      <td>VBENBARO</td>\n",
       "      <td>Male</td>\n",
       "      <td>29</td>\n",
       "      <td>RG254</td>\n",
       "      <td>Other</td>\n",
       "      <td>X1</td>\n",
       "      <td>25</td>\n",
       "      <td>Yes</td>\n",
       "      <td>742366</td>\n",
       "      <td>No</td>\n",
       "    </tr>\n",
       "    <tr>\n",
       "      <th>1</th>\n",
       "      <td>CCMEWNKY</td>\n",
       "      <td>Male</td>\n",
       "      <td>43</td>\n",
       "      <td>RG268</td>\n",
       "      <td>Other</td>\n",
       "      <td>X2</td>\n",
       "      <td>49</td>\n",
       "      <td>NaN</td>\n",
       "      <td>925537</td>\n",
       "      <td>No</td>\n",
       "    </tr>\n",
       "  </tbody>\n",
       "</table>\n",
       "</div>"
      ],
      "text/plain": [
       "         ID Gender  Age Region_Code Occupation Channel_Code  Vintage  \\\n",
       "0  VBENBARO   Male   29       RG254      Other           X1       25   \n",
       "1  CCMEWNKY   Male   43       RG268      Other           X2       49   \n",
       "\n",
       "  Credit_Product  Avg_Account_Balance Is_Active  \n",
       "0            Yes               742366        No  \n",
       "1            NaN               925537        No  "
      ]
     },
     "execution_count": 4,
     "metadata": {},
     "output_type": "execute_result"
    }
   ],
   "source": [
    "test_df = pd.read_csv('test_data.csv')\n",
    "test_df.head(2)"
   ]
  },
  {
   "cell_type": "code",
   "execution_count": 5,
   "id": "d04b0384",
   "metadata": {},
   "outputs": [
    {
     "data": {
      "text/plain": [
       "(105312, 10)"
      ]
     },
     "execution_count": 5,
     "metadata": {},
     "output_type": "execute_result"
    }
   ],
   "source": [
    "test_df.shape"
   ]
  },
  {
   "cell_type": "markdown",
   "id": "6fbe48f7",
   "metadata": {},
   "source": [
    "## combining both dataset to fill null values and encoding purpose"
   ]
  },
  {
   "cell_type": "code",
   "execution_count": 6,
   "id": "cef2bb87",
   "metadata": {},
   "outputs": [
    {
     "data": {
      "text/plain": [
       "(351037, 10)"
      ]
     },
     "execution_count": 6,
     "metadata": {},
     "output_type": "execute_result"
    }
   ],
   "source": [
    "whole_df = pd.concat([train_df.drop(columns='Is_Lead') , test_df], \n",
    "                     axis=0, ignore_index=True)\n",
    "whole_df.shape"
   ]
  },
  {
   "cell_type": "code",
   "execution_count": 7,
   "id": "2e3622f0",
   "metadata": {},
   "outputs": [],
   "source": [
    "#whole_df.loc[train_df.shape[0]]"
   ]
  },
  {
   "cell_type": "markdown",
   "id": "d1707494",
   "metadata": {},
   "source": [
    "## column counts and stats"
   ]
  },
  {
   "cell_type": "code",
   "execution_count": 8,
   "id": "144a8838",
   "metadata": {},
   "outputs": [
    {
     "data": {
      "text/plain": [
       "Index(['ID', 'Gender', 'Age', 'Region_Code', 'Occupation', 'Channel_Code',\n",
       "       'Vintage', 'Credit_Product', 'Avg_Account_Balance', 'Is_Active'],\n",
       "      dtype='object')"
      ]
     },
     "execution_count": 8,
     "metadata": {},
     "output_type": "execute_result"
    }
   ],
   "source": [
    "whole_df.columns"
   ]
  },
  {
   "cell_type": "code",
   "execution_count": 9,
   "id": "f41c382b",
   "metadata": {},
   "outputs": [
    {
     "data": {
      "text/plain": [
       "Male      191902\n",
       "Female    159135\n",
       "Name: Gender, dtype: int64"
      ]
     },
     "execution_count": 9,
     "metadata": {},
     "output_type": "execute_result"
    }
   ],
   "source": [
    "whole_df.Gender.value_counts()"
   ]
  },
  {
   "cell_type": "code",
   "execution_count": 10,
   "id": "140796d4",
   "metadata": {},
   "outputs": [
    {
     "name": "stdout",
     "output_type": "stream",
     "text": [
      "mean 43.860715537108625\n",
      "median 43.0\n",
      "mode 0    28\n",
      "dtype: int64\n"
     ]
    }
   ],
   "source": [
    "print('mean', whole_df.Age.mean())\n",
    "print('median', whole_df.Age.median())\n",
    "print('mode', whole_df.Age.mode())"
   ]
  },
  {
   "cell_type": "code",
   "execution_count": 11,
   "id": "1a070680",
   "metadata": {},
   "outputs": [
    {
     "data": {
      "text/plain": [
       "(35,)"
      ]
     },
     "execution_count": 11,
     "metadata": {},
     "output_type": "execute_result"
    }
   ],
   "source": [
    "whole_df.Region_Code.unique().shape"
   ]
  },
  {
   "cell_type": "code",
   "execution_count": 12,
   "id": "697e184f",
   "metadata": {},
   "outputs": [
    {
     "data": {
      "text/plain": [
       "Self_Employed    144078\n",
       "Salaried         102912\n",
       "Other            100304\n",
       "Entrepreneur       3743\n",
       "Name: Occupation, dtype: int64"
      ]
     },
     "execution_count": 12,
     "metadata": {},
     "output_type": "execute_result"
    }
   ],
   "source": [
    "whole_df.Occupation.value_counts()"
   ]
  },
  {
   "cell_type": "code",
   "execution_count": 13,
   "id": "7793b23f",
   "metadata": {},
   "outputs": [
    {
     "data": {
      "text/plain": [
       "X1    148202\n",
       "X3     97981\n",
       "X2     96902\n",
       "X4      7952\n",
       "Name: Channel_Code, dtype: int64"
      ]
     },
     "execution_count": 13,
     "metadata": {},
     "output_type": "execute_result"
    }
   ],
   "source": [
    "whole_df.Channel_Code.value_counts()"
   ]
  },
  {
   "cell_type": "code",
   "execution_count": 14,
   "id": "a688e4a0",
   "metadata": {},
   "outputs": [
    {
     "name": "stdout",
     "output_type": "stream",
     "text": [
      "mean 46.924244452863945\n",
      "median 32.0\n",
      "mode 0    13\n",
      "dtype: int64\n"
     ]
    }
   ],
   "source": [
    "print('mean', whole_df.Vintage.mean())\n",
    "print('median', whole_df.Vintage.median())\n",
    "print('mode', whole_df.Vintage.mode())"
   ]
  },
  {
   "cell_type": "code",
   "execution_count": 15,
   "id": "02b6346d",
   "metadata": {},
   "outputs": [
    {
     "name": "stdout",
     "output_type": "stream",
     "text": [
      "mean 1130140.5749906704\n",
      "median 895162.0\n",
      "mode 0    4022185\n",
      "dtype: int64\n"
     ]
    }
   ],
   "source": [
    "print('mean', whole_df.Avg_Account_Balance.mean())\n",
    "print('median', whole_df.Avg_Account_Balance.median())\n",
    "print('mode', whole_df.Avg_Account_Balance.mode())"
   ]
  },
  {
   "cell_type": "code",
   "execution_count": 16,
   "id": "baf6ebe6",
   "metadata": {},
   "outputs": [
    {
     "data": {
      "text/plain": [
       "No     205965\n",
       "Yes    103225\n",
       "NaN     41847\n",
       "Name: Credit_Product, dtype: int64"
      ]
     },
     "execution_count": 16,
     "metadata": {},
     "output_type": "execute_result"
    }
   ],
   "source": [
    "whole_df.Credit_Product.value_counts(dropna=False)"
   ]
  },
  {
   "cell_type": "code",
   "execution_count": 17,
   "id": "adf70a4e",
   "metadata": {},
   "outputs": [
    {
     "data": {
      "text/plain": [
       "No     214087\n",
       "Yes    136950\n",
       "Name: Is_Active, dtype: int64"
      ]
     },
     "execution_count": 17,
     "metadata": {},
     "output_type": "execute_result"
    }
   ],
   "source": [
    "whole_df.Is_Active.value_counts()"
   ]
  },
  {
   "cell_type": "markdown",
   "id": "1a6e40f9",
   "metadata": {},
   "source": [
    "## filling missing values in Credit Product"
   ]
  },
  {
   "cell_type": "markdown",
   "id": "1b99b78c",
   "metadata": {},
   "source": [
    "### analysing Dataset based on different columns"
   ]
  },
  {
   "cell_type": "code",
   "execution_count": 18,
   "id": "05a733fd",
   "metadata": {},
   "outputs": [
    {
     "data": {
      "text/plain": [
       "Index(['ID', 'Gender', 'Age', 'Region_Code', 'Occupation', 'Channel_Code',\n",
       "       'Vintage', 'Credit_Product', 'Avg_Account_Balance', 'Is_Active'],\n",
       "      dtype='object')"
      ]
     },
     "execution_count": 18,
     "metadata": {},
     "output_type": "execute_result"
    }
   ],
   "source": [
    "whole_df.columns"
   ]
  },
  {
   "cell_type": "code",
   "execution_count": 19,
   "id": "d1db8195",
   "metadata": {},
   "outputs": [
    {
     "data": {
      "text/plain": [
       "<AxesSubplot:xlabel='Credit_Product', ylabel='count'>"
      ]
     },
     "execution_count": 19,
     "metadata": {},
     "output_type": "execute_result"
    },
    {
     "data": {
      "image/png": "[encoded data removed]",
      "text/plain": [
       "<Figure size 432x288 with 1 Axes>"
      ]
     },
     "metadata": {
      "needs_background": "light"
     },
     "output_type": "display_data"
    }
   ],
   "source": [
    "sns.countplot(x=whole_df.Credit_Product, hue=whole_df.Gender)"
   ]
  },
  {
   "cell_type": "code",
   "execution_count": 20,
   "id": "8fef9b67",
   "metadata": {},
   "outputs": [
    {
     "data": {
      "text/plain": [
       "<AxesSubplot:xlabel='Credit_Product', ylabel='count'>"
      ]
     },
     "execution_count": 20,
     "metadata": {},
     "output_type": "execute_result"
    },
    {
     "data": {
      "image/png": "[encoded data removed]",
      "text/plain": [
       "<Figure size 432x360 with 1 Axes>"
      ]
     },
     "metadata": {
      "needs_background": "light"
     },
     "output_type": "display_data"
    }
   ],
   "source": [
    "plt.subplots(figsize = (6,5))\n",
    "sns.countplot(x=whole_df.Credit_Product, hue=whole_df.Occupation)"
   ]
  },
  {
   "cell_type": "code",
   "execution_count": 21,
   "id": "27667331",
   "metadata": {},
   "outputs": [
    {
     "data": {
      "text/plain": [
       "<AxesSubplot:xlabel='Credit_Product', ylabel='count'>"
      ]
     },
     "execution_count": 21,
     "metadata": {},
     "output_type": "execute_result"
    },
    {
     "data": {
      "image/png": "[encoded data removed]",
      "text/plain": [
       "<Figure size 432x288 with 1 Axes>"
      ]
     },
     "metadata": {
      "needs_background": "light"
     },
     "output_type": "display_data"
    }
   ],
   "source": [
    "sns.countplot(x=whole_df.Credit_Product, hue=whole_df.Channel_Code)"
   ]
  },
  {
   "cell_type": "code",
   "execution_count": 22,
   "id": "9d6e31a8",
   "metadata": {
    "scrolled": true
   },
   "outputs": [
    {
     "data": {
      "text/plain": [
       "<AxesSubplot:xlabel='Credit_Product', ylabel='count'>"
      ]
     },
     "execution_count": 22,
     "metadata": {},
     "output_type": "execute_result"
    },
    {
     "data": {
      "image/png": "[encoded data removed]",
      "text/plain": [
       "<Figure size 432x288 with 1 Axes>"
      ]
     },
     "metadata": {
      "needs_background": "light"
     },
     "output_type": "display_data"
    }
   ],
   "source": [
    "sns.countplot(x=whole_df.Credit_Product, hue=whole_df.Is_Active)"
   ]
  },
  {
   "cell_type": "code",
   "execution_count": 23,
   "id": "08dc1cd3",
   "metadata": {},
   "outputs": [
    {
     "data": {
      "text/plain": [
       "<AxesSubplot:xlabel='Age', ylabel='Count'>"
      ]
     },
     "execution_count": 23,
     "metadata": {},
     "output_type": "execute_result"
    },
    {
     "data": {
      "image/png": "[encoded data removed]",
      "text/plain": [
       "<Figure size 1008x504 with 1 Axes>"
      ]
     },
     "metadata": {
      "needs_background": "light"
     },
     "output_type": "display_data"
    }
   ],
   "source": [
    "plt.subplots(figsize=(14,7))\n",
    "sns.histplot(data=whole_df, x='Age', kde=True, \n",
    "             hue='Credit_Product', multiple='stack')"
   ]
  },
  {
   "cell_type": "code",
   "execution_count": 24,
   "id": "904a2e3c",
   "metadata": {},
   "outputs": [
    {
     "data": {
      "text/plain": [
       "<AxesSubplot:xlabel='Vintage', ylabel='Count'>"
      ]
     },
     "execution_count": 24,
     "metadata": {},
     "output_type": "execute_result"
    },
    {
     "data": {
      "image/png": "[encoded data removed]",
      "text/plain": [
       "<Figure size 1008x504 with 1 Axes>"
      ]
     },
     "metadata": {
      "needs_background": "light"
     },
     "output_type": "display_data"
    }
   ],
   "source": [
    "plt.subplots(figsize=(14,7))\n",
    "sns.histplot(data=whole_df, x='Vintage', kde=True, \n",
    "             hue='Credit_Product', multiple='stack')"
   ]
  },
  {
   "cell_type": "code",
   "execution_count": 25,
   "id": "fbe94202",
   "metadata": {},
   "outputs": [
    {
     "data": {
      "text/plain": [
       "<AxesSubplot:xlabel='Avg_Account_Balance', ylabel='Count'>"
      ]
     },
     "execution_count": 25,
     "metadata": {},
     "output_type": "execute_result"
    },
    {
     "data": {
      "image/png": "[encoded data removed]",
      "text/plain": [
       "<Figure size 1008x504 with 1 Axes>"
      ]
     },
     "metadata": {
      "needs_background": "light"
     },
     "output_type": "display_data"
    }
   ],
   "source": [
    "plt.subplots(figsize=(14,7))\n",
    "sns.histplot(data=whole_df, x='Avg_Account_Balance', kde=True, \n",
    "             hue='Credit_Product', multiple='stack', log_scale=True)"
   ]
  },
  {
   "cell_type": "markdown",
   "id": "06a281ea",
   "metadata": {},
   "source": [
    "### Occupation, Channel Code, Age, Vintage, Gender combination analysis"
   ]
  },
  {
   "cell_type": "code",
   "execution_count": 26,
   "id": "1c7b64c7",
   "metadata": {},
   "outputs": [
    {
     "data": {
      "text/plain": [
       "<AxesSubplot:xlabel='Age', ylabel='Count'>"
      ]
     },
     "execution_count": 26,
     "metadata": {},
     "output_type": "execute_result"
    },
    {
     "data": {
      "image/png": "[encoded data removed]",
      "text/plain": [
       "<Figure size 1008x432 with 1 Axes>"
      ]
     },
     "metadata": {
      "needs_background": "light"
     },
     "output_type": "display_data"
    },
    {
     "data": {
      "image/png": "[encoded data removed]",
      "text/plain": [
       "<Figure size 1008x432 with 1 Axes>"
      ]
     },
     "metadata": {
      "needs_background": "light"
     },
     "output_type": "display_data"
    },
    {
     "data": {
      "image/png": "[encoded data removed]",
      "text/plain": [
       "<Figure size 1008x432 with 1 Axes>"
      ]
     },
     "metadata": {
      "needs_background": "light"
     },
     "output_type": "display_data"
    },
    {
     "data": {
      "image/png": "[encoded data removed]",
      "text/plain": [
       "<Figure size 1008x432 with 1 Axes>"
      ]
     },
     "metadata": {
      "needs_background": "light"
     },
     "output_type": "display_data"
    },
    {
     "data": {
      "image/png": "[encoded data removed]",
      "text/plain": [
       "<Figure size 1008x432 with 1 Axes>"
      ]
     },
     "metadata": {
      "needs_background": "light"
     },
     "output_type": "display_data"
    }
   ],
   "source": [
    "plt.subplots(figsize=(14,6))\n",
    "sns.histplot(data=whole_df, x='Age', kde=True, \n",
    "             hue='Gender', multiple='dodge')\n",
    "\n",
    "plt.subplots(figsize=(14,6))\n",
    "sns.histplot(data=whole_df, x='Age', kde=True, \n",
    "             hue='Credit_Product', multiple='dodge')\n",
    "\n",
    "plt.subplots(figsize=(14,6))\n",
    "sns.histplot(data=whole_df, x='Age', kde=True, \n",
    "             hue='Occupation', multiple='dodge')\n",
    "\n",
    "plt.subplots(figsize=(14,6))\n",
    "sns.histplot(data=whole_df, x='Age', kde=True, \n",
    "             hue='Channel_Code', multiple='dodge')\n",
    "\n",
    "plt.subplots(figsize=(14,6))\n",
    "sns.histplot(data=whole_df, x='Age', kde=True, \n",
    "             hue='Is_Active', multiple='dodge')"
   ]
  },
  {
   "cell_type": "code",
   "execution_count": 27,
   "id": "8b0f233a",
   "metadata": {},
   "outputs": [
    {
     "data": {
      "text/plain": [
       "<seaborn.axisgrid.FacetGrid at 0x1c3a2a649a0>"
      ]
     },
     "execution_count": 27,
     "metadata": {},
     "output_type": "execute_result"
    },
    {
     "data": {
      "image/png": "[encoded data removed]",
      "text/plain": [
       "<Figure size 440.875x360 with 1 Axes>"
      ]
     },
     "metadata": {
      "needs_background": "light"
     },
     "output_type": "display_data"
    }
   ],
   "source": [
    "sns.catplot(data=whole_df, y='Occupation', x='Age', \n",
    "            hue='Credit_Product', kind='box')\n",
    "\n",
    "#temp_df.Occupation.value_counts()"
   ]
  },
  {
   "cell_type": "code",
   "execution_count": 28,
   "id": "0e091161",
   "metadata": {},
   "outputs": [
    {
     "data": {
      "text/plain": [
       "<seaborn.axisgrid.FacetGrid at 0x1c39f200460>"
      ]
     },
     "execution_count": 28,
     "metadata": {},
     "output_type": "execute_result"
    },
    {
     "data": {
      "image/png": "[encoded data removed]",
      "text/plain": [
       "<Figure size 800.875x720 with 4 Axes>"
      ]
     },
     "metadata": {
      "needs_background": "light"
     },
     "output_type": "display_data"
    }
   ],
   "source": [
    "# sns.catplot(data=whole_df, y='Occupation', x='Age', col='Gender',\n",
    "#             hue='Credit_Product', kind='box', height=6, aspect=1.5)\n",
    "\n",
    "sns.catplot(data=whole_df, col='Channel_Code', x='Age', y='Occupation', col_wrap=2,\n",
    "            hue='Credit_Product', kind='box', height=5, aspect=1)\n",
    "\n",
    "#print(temp_df.groupby(['Occupation', 'Channel_Code']).Age.mean())\n",
    "#print(temp_df.groupby(['Occupation', 'Channel_Code']).Age.median())"
   ]
  },
  {
   "cell_type": "code",
   "execution_count": 29,
   "id": "92064d41",
   "metadata": {},
   "outputs": [
    {
     "data": {
      "text/plain": [
       "<seaborn.axisgrid.FacetGrid at 0x1c3a3707b80>"
      ]
     },
     "execution_count": 29,
     "metadata": {},
     "output_type": "execute_result"
    },
    {
     "data": {
      "image/png": "[encoded data removed]",
      "text/plain": [
       "<Figure size 800.875x720 with 4 Axes>"
      ]
     },
     "metadata": {
      "needs_background": "light"
     },
     "output_type": "display_data"
    }
   ],
   "source": [
    "sns.catplot(data=whole_df, y='Occupation', x='Vintage', col='Channel_Code', col_wrap=2,\n",
    "            hue='Credit_Product', kind='box', height=5, aspect=1)"
   ]
  },
  {
   "cell_type": "code",
   "execution_count": 30,
   "id": "5478f64b",
   "metadata": {},
   "outputs": [],
   "source": [
    "# plt.subplots(figsize=(16,7))\n",
    "# sns.pointplot(data=whole_df, x='Age', y='Vintage', hue='Credit_Product')"
   ]
  },
  {
   "cell_type": "code",
   "execution_count": 31,
   "id": "1d1fc63e",
   "metadata": {},
   "outputs": [],
   "source": [
    "# plt.subplots(figsize=(16,7))\n",
    "# sns.scatterplot(data=whole_df, x='Age', y='Vintage', hue='Credit_Product')\n",
    "\n",
    "# plt.subplots(figsize=(16,7))\n",
    "# sns.pointplot(data=whole_df, x='Age', y='Vintage', hue='Occupation')"
   ]
  },
  {
   "cell_type": "code",
   "execution_count": 32,
   "id": "f5848a1f",
   "metadata": {},
   "outputs": [
    {
     "data": {
      "text/plain": [
       "Yes    3683\n",
       "No     3262\n",
       "NaN    1007\n",
       "Name: Credit_Product, dtype: int64"
      ]
     },
     "execution_count": 32,
     "metadata": {},
     "output_type": "execute_result"
    }
   ],
   "source": [
    "temp1 = whole_df[whole_df.Channel_Code == 'X4']\n",
    "#print(temp1.Vintage.max(), temp1.Vintage.min(),temp1.Vintage.mean(), temp1.Vintage.median())\n",
    "#temp1[temp1.Vintage <= temp1.Vintage.max()].Credit_Product.value_counts(dropna = False)\n",
    "temp1.Credit_Product.value_counts(dropna=False)"
   ]
  },
  {
   "cell_type": "markdown",
   "id": "0b52b603",
   "metadata": {},
   "source": [
    "## analyzing null records"
   ]
  },
  {
   "cell_type": "code",
   "execution_count": 33,
   "id": "b420bdcf",
   "metadata": {},
   "outputs": [
    {
     "data": {
      "text/html": [
       "<div>\n",
       "<style scoped>\n",
       "    .dataframe tbody tr th:only-of-type {\n",
       "        vertical-align: middle;\n",
       "    }\n",
       "\n",
       "    .dataframe tbody tr th {\n",
       "        vertical-align: top;\n",
       "    }\n",
       "\n",
       "    .dataframe thead th {\n",
       "        text-align: right;\n",
       "    }\n",
       "</style>\n",
       "<table border=\"1\" class=\"dataframe\">\n",
       "  <thead>\n",
       "    <tr style=\"text-align: right;\">\n",
       "      <th></th>\n",
       "      <th>ID</th>\n",
       "      <th>Gender</th>\n",
       "      <th>Age</th>\n",
       "      <th>Region_Code</th>\n",
       "      <th>Occupation</th>\n",
       "      <th>Channel_Code</th>\n",
       "      <th>Vintage</th>\n",
       "      <th>Credit_Product</th>\n",
       "      <th>Avg_Account_Balance</th>\n",
       "      <th>Is_Active</th>\n",
       "    </tr>\n",
       "  </thead>\n",
       "  <tbody>\n",
       "    <tr>\n",
       "      <th>6</th>\n",
       "      <td>ETQCZFEJ</td>\n",
       "      <td>Male</td>\n",
       "      <td>62</td>\n",
       "      <td>RG282</td>\n",
       "      <td>Other</td>\n",
       "      <td>X3</td>\n",
       "      <td>20</td>\n",
       "      <td>NaN</td>\n",
       "      <td>1056750</td>\n",
       "      <td>Yes</td>\n",
       "    </tr>\n",
       "    <tr>\n",
       "      <th>15</th>\n",
       "      <td>UJ2NJKKL</td>\n",
       "      <td>Male</td>\n",
       "      <td>33</td>\n",
       "      <td>RG268</td>\n",
       "      <td>Self_Employed</td>\n",
       "      <td>X2</td>\n",
       "      <td>69</td>\n",
       "      <td>NaN</td>\n",
       "      <td>517063</td>\n",
       "      <td>Yes</td>\n",
       "    </tr>\n",
       "    <tr>\n",
       "      <th>31</th>\n",
       "      <td>ABPMK4WU</td>\n",
       "      <td>Female</td>\n",
       "      <td>32</td>\n",
       "      <td>RG279</td>\n",
       "      <td>Salaried</td>\n",
       "      <td>X4</td>\n",
       "      <td>15</td>\n",
       "      <td>NaN</td>\n",
       "      <td>1072850</td>\n",
       "      <td>Yes</td>\n",
       "    </tr>\n",
       "    <tr>\n",
       "      <th>36</th>\n",
       "      <td>MTEIXMB9</td>\n",
       "      <td>Female</td>\n",
       "      <td>41</td>\n",
       "      <td>RG268</td>\n",
       "      <td>Self_Employed</td>\n",
       "      <td>X3</td>\n",
       "      <td>62</td>\n",
       "      <td>NaN</td>\n",
       "      <td>962383</td>\n",
       "      <td>No</td>\n",
       "    </tr>\n",
       "    <tr>\n",
       "      <th>40</th>\n",
       "      <td>6WX9JDVK</td>\n",
       "      <td>Female</td>\n",
       "      <td>63</td>\n",
       "      <td>RG254</td>\n",
       "      <td>Other</td>\n",
       "      <td>X3</td>\n",
       "      <td>103</td>\n",
       "      <td>NaN</td>\n",
       "      <td>1249319</td>\n",
       "      <td>Yes</td>\n",
       "    </tr>\n",
       "  </tbody>\n",
       "</table>\n",
       "</div>"
      ],
      "text/plain": [
       "          ID  Gender  Age Region_Code     Occupation Channel_Code  Vintage  \\\n",
       "6   ETQCZFEJ    Male   62       RG282          Other           X3       20   \n",
       "15  UJ2NJKKL    Male   33       RG268  Self_Employed           X2       69   \n",
       "31  ABPMK4WU  Female   32       RG279       Salaried           X4       15   \n",
       "36  MTEIXMB9  Female   41       RG268  Self_Employed           X3       62   \n",
       "40  6WX9JDVK  Female   63       RG254          Other           X3      103   \n",
       "\n",
       "   Credit_Product  Avg_Account_Balance Is_Active  \n",
       "6             NaN              1056750       Yes  \n",
       "15            NaN               517063       Yes  \n",
       "31            NaN              1072850       Yes  \n",
       "36            NaN               962383        No  \n",
       "40            NaN              1249319       Yes  "
      ]
     },
     "execution_count": 33,
     "metadata": {},
     "output_type": "execute_result"
    }
   ],
   "source": [
    "temp_df = whole_df[whole_df.Credit_Product.isna()]\n",
    "temp_df.head(5)"
   ]
  },
  {
   "cell_type": "code",
   "execution_count": 34,
   "id": "8b1e7ebb",
   "metadata": {},
   "outputs": [
    {
     "data": {
      "text/plain": [
       "(41847, 10)"
      ]
     },
     "execution_count": 34,
     "metadata": {},
     "output_type": "execute_result"
    }
   ],
   "source": [
    "temp_df.shape"
   ]
  },
  {
   "cell_type": "code",
   "execution_count": 35,
   "id": "a2aba610",
   "metadata": {},
   "outputs": [
    {
     "data": {
      "text/plain": [
       "<AxesSubplot:xlabel='Occupation', ylabel='count'>"
      ]
     },
     "execution_count": 35,
     "metadata": {},
     "output_type": "execute_result"
    },
    {
     "data": {
      "image/png": "[encoded data removed]",
      "text/plain": [
       "<Figure size 432x288 with 1 Axes>"
      ]
     },
     "metadata": {
      "needs_background": "light"
     },
     "output_type": "display_data"
    }
   ],
   "source": [
    "sns.countplot(x= temp_df.Occupation)"
   ]
  },
  {
   "cell_type": "code",
   "execution_count": 36,
   "id": "bf5129d1",
   "metadata": {},
   "outputs": [
    {
     "data": {
      "text/plain": [
       "<AxesSubplot:xlabel='Channel_Code', ylabel='count'>"
      ]
     },
     "execution_count": 36,
     "metadata": {},
     "output_type": "execute_result"
    },
    {
     "data": {
      "image/png": "[encoded data removed]",
      "text/plain": [
       "<Figure size 432x288 with 1 Axes>"
      ]
     },
     "metadata": {
      "needs_background": "light"
     },
     "output_type": "display_data"
    }
   ],
   "source": [
    "sns.countplot(x= temp_df.Channel_Code)"
   ]
  },
  {
   "cell_type": "code",
   "execution_count": 37,
   "id": "eee27b2f",
   "metadata": {},
   "outputs": [],
   "source": [
    "# sns.catplot(data=temp_df, y='Occupation', x='Age', col='Channel_Code',\n",
    "#             kind='box', height=4, aspect=1)"
   ]
  },
  {
   "cell_type": "code",
   "execution_count": 38,
   "id": "85000319",
   "metadata": {},
   "outputs": [],
   "source": [
    "# sns.catplot(data=temp_df, y='Occupation', x='Vintage', col='Channel_Code',\n",
    "#             kind='box', height=4, aspect=1)"
   ]
  },
  {
   "cell_type": "code",
   "execution_count": 39,
   "id": "b3820040",
   "metadata": {},
   "outputs": [
    {
     "data": {
      "text/plain": [
       "NaN    41847\n",
       "Name: Credit_Product, dtype: int64"
      ]
     },
     "execution_count": 39,
     "metadata": {},
     "output_type": "execute_result"
    }
   ],
   "source": [
    "temp_df.Credit_Product.value_counts(dropna=False)"
   ]
  },
  {
   "cell_type": "code",
   "execution_count": 40,
   "id": "89bac4d9",
   "metadata": {},
   "outputs": [],
   "source": [
    "#index = temp_df[temp_df.Occupation == 'Entrepreneur'].index.to_list()\n",
    "#temp_df.loc[index, 'Credit_Product'] = 'Yes'"
   ]
  },
  {
   "cell_type": "code",
   "execution_count": 41,
   "id": "35b999ee",
   "metadata": {},
   "outputs": [
    {
     "name": "stderr",
     "output_type": "stream",
     "text": [
      "C:\\Users\\shabisht\\Anaconda3\\lib\\site-packages\\pandas\\core\\indexing.py:1720: SettingWithCopyWarning: \n",
      "A value is trying to be set on a copy of a slice from a DataFrame.\n",
      "Try using .loc[row_indexer,col_indexer] = value instead\n",
      "\n",
      "See the caveats in the documentation: https://pandas.pydata.org/pandas-docs/stable/user_guide/indexing.html#returning-a-view-versus-a-copy\n",
      "  self._setitem_single_column(loc, value, pi)\n"
     ]
    }
   ],
   "source": [
    "index = temp_df[(temp_df.Occupation == 'Salaried') | (temp_df.Occupation == 'Other') & (temp_df.Channel_Code == 'X1') | (temp_df.Occupation == 'Entrepreneur') | (temp_df.Channel_Code == 'X4')].index.to_list()\n",
    "temp_df.loc[index, 'Credit_Product'] = 'Yes'"
   ]
  },
  {
   "cell_type": "code",
   "execution_count": 42,
   "id": "3737b9a5",
   "metadata": {},
   "outputs": [],
   "source": [
    "# whole_df[whole_df.Channel_Code == 'X3'].groupby(['Occupation']).Credit_Product.value_counts(dropna=False)"
   ]
  },
  {
   "cell_type": "code",
   "execution_count": 43,
   "id": "5c9af987",
   "metadata": {},
   "outputs": [
    {
     "name": "stderr",
     "output_type": "stream",
     "text": [
      "C:\\Users\\shabisht\\Anaconda3\\lib\\site-packages\\pandas\\core\\series.py:4463: SettingWithCopyWarning: \n",
      "A value is trying to be set on a copy of a slice from a DataFrame\n",
      "\n",
      "See the caveats in the documentation: https://pandas.pydata.org/pandas-docs/stable/user_guide/indexing.html#returning-a-view-versus-a-copy\n",
      "  return super().fillna(\n"
     ]
    }
   ],
   "source": [
    "temp_df.Credit_Product.fillna('No', inplace=True)"
   ]
  },
  {
   "cell_type": "code",
   "execution_count": 44,
   "id": "9cdd7883",
   "metadata": {},
   "outputs": [],
   "source": [
    "whole_df.drop(index = temp_df.index.to_list(), inplace=True)"
   ]
  },
  {
   "cell_type": "code",
   "execution_count": 45,
   "id": "51a460fb",
   "metadata": {},
   "outputs": [],
   "source": [
    "whole_df = pd.concat([whole_df, temp_df], axis=0)"
   ]
  },
  {
   "cell_type": "code",
   "execution_count": 46,
   "id": "119afb59",
   "metadata": {},
   "outputs": [
    {
     "data": {
      "text/plain": [
       "ID                     ETQCZFEJ\n",
       "Gender                     Male\n",
       "Age                          62\n",
       "Region_Code               RG282\n",
       "Occupation                Other\n",
       "Channel_Code                 X3\n",
       "Vintage                      20\n",
       "Credit_Product               No\n",
       "Avg_Account_Balance     1056750\n",
       "Is_Active                   Yes\n",
       "Name: 6, dtype: object"
      ]
     },
     "execution_count": 46,
     "metadata": {},
     "output_type": "execute_result"
    }
   ],
   "source": [
    "whole_df.loc[6]\n",
    "#whole_df.shape"
   ]
  },
  {
   "cell_type": "code",
   "execution_count": 47,
   "id": "b0ad6e90",
   "metadata": {},
   "outputs": [
    {
     "data": {
      "text/html": [
       "<div>\n",
       "<style scoped>\n",
       "    .dataframe tbody tr th:only-of-type {\n",
       "        vertical-align: middle;\n",
       "    }\n",
       "\n",
       "    .dataframe tbody tr th {\n",
       "        vertical-align: top;\n",
       "    }\n",
       "\n",
       "    .dataframe thead th {\n",
       "        text-align: right;\n",
       "    }\n",
       "</style>\n",
       "<table border=\"1\" class=\"dataframe\">\n",
       "  <thead>\n",
       "    <tr style=\"text-align: right;\">\n",
       "      <th></th>\n",
       "      <th>ID</th>\n",
       "      <th>Gender</th>\n",
       "      <th>Age</th>\n",
       "      <th>Region_Code</th>\n",
       "      <th>Occupation</th>\n",
       "      <th>Channel_Code</th>\n",
       "      <th>Vintage</th>\n",
       "      <th>Credit_Product</th>\n",
       "      <th>Avg_Account_Balance</th>\n",
       "      <th>Is_Active</th>\n",
       "    </tr>\n",
       "  </thead>\n",
       "  <tbody>\n",
       "    <tr>\n",
       "      <th>0</th>\n",
       "      <td>NNVBBKZB</td>\n",
       "      <td>Female</td>\n",
       "      <td>73</td>\n",
       "      <td>RG268</td>\n",
       "      <td>Other</td>\n",
       "      <td>X3</td>\n",
       "      <td>43</td>\n",
       "      <td>No</td>\n",
       "      <td>1045696</td>\n",
       "      <td>No</td>\n",
       "    </tr>\n",
       "    <tr>\n",
       "      <th>1</th>\n",
       "      <td>IDD62UNG</td>\n",
       "      <td>Female</td>\n",
       "      <td>30</td>\n",
       "      <td>RG277</td>\n",
       "      <td>Salaried</td>\n",
       "      <td>X1</td>\n",
       "      <td>32</td>\n",
       "      <td>No</td>\n",
       "      <td>581988</td>\n",
       "      <td>No</td>\n",
       "    </tr>\n",
       "    <tr>\n",
       "      <th>2</th>\n",
       "      <td>HD3DSEMC</td>\n",
       "      <td>Female</td>\n",
       "      <td>56</td>\n",
       "      <td>RG268</td>\n",
       "      <td>Self_Employed</td>\n",
       "      <td>X3</td>\n",
       "      <td>26</td>\n",
       "      <td>No</td>\n",
       "      <td>1484315</td>\n",
       "      <td>Yes</td>\n",
       "    </tr>\n",
       "    <tr>\n",
       "      <th>3</th>\n",
       "      <td>BF3NC7KV</td>\n",
       "      <td>Male</td>\n",
       "      <td>34</td>\n",
       "      <td>RG270</td>\n",
       "      <td>Salaried</td>\n",
       "      <td>X1</td>\n",
       "      <td>19</td>\n",
       "      <td>No</td>\n",
       "      <td>470454</td>\n",
       "      <td>No</td>\n",
       "    </tr>\n",
       "    <tr>\n",
       "      <th>4</th>\n",
       "      <td>TEASRWXV</td>\n",
       "      <td>Female</td>\n",
       "      <td>30</td>\n",
       "      <td>RG282</td>\n",
       "      <td>Salaried</td>\n",
       "      <td>X1</td>\n",
       "      <td>33</td>\n",
       "      <td>No</td>\n",
       "      <td>886787</td>\n",
       "      <td>No</td>\n",
       "    </tr>\n",
       "    <tr>\n",
       "      <th>5</th>\n",
       "      <td>ACUTYTWS</td>\n",
       "      <td>Male</td>\n",
       "      <td>56</td>\n",
       "      <td>RG261</td>\n",
       "      <td>Self_Employed</td>\n",
       "      <td>X1</td>\n",
       "      <td>32</td>\n",
       "      <td>No</td>\n",
       "      <td>544163</td>\n",
       "      <td>Yes</td>\n",
       "    </tr>\n",
       "    <tr>\n",
       "      <th>6</th>\n",
       "      <td>ETQCZFEJ</td>\n",
       "      <td>Male</td>\n",
       "      <td>62</td>\n",
       "      <td>RG282</td>\n",
       "      <td>Other</td>\n",
       "      <td>X3</td>\n",
       "      <td>20</td>\n",
       "      <td>No</td>\n",
       "      <td>1056750</td>\n",
       "      <td>Yes</td>\n",
       "    </tr>\n",
       "    <tr>\n",
       "      <th>7</th>\n",
       "      <td>JJNJUQMQ</td>\n",
       "      <td>Female</td>\n",
       "      <td>48</td>\n",
       "      <td>RG265</td>\n",
       "      <td>Self_Employed</td>\n",
       "      <td>X3</td>\n",
       "      <td>13</td>\n",
       "      <td>No</td>\n",
       "      <td>444724</td>\n",
       "      <td>Yes</td>\n",
       "    </tr>\n",
       "    <tr>\n",
       "      <th>8</th>\n",
       "      <td>ZMQFYKCB</td>\n",
       "      <td>Female</td>\n",
       "      <td>40</td>\n",
       "      <td>RG283</td>\n",
       "      <td>Self_Employed</td>\n",
       "      <td>X2</td>\n",
       "      <td>38</td>\n",
       "      <td>No</td>\n",
       "      <td>1274284</td>\n",
       "      <td>No</td>\n",
       "    </tr>\n",
       "    <tr>\n",
       "      <th>9</th>\n",
       "      <td>NVKTFBA2</td>\n",
       "      <td>Female</td>\n",
       "      <td>55</td>\n",
       "      <td>RG268</td>\n",
       "      <td>Self_Employed</td>\n",
       "      <td>X2</td>\n",
       "      <td>49</td>\n",
       "      <td>Yes</td>\n",
       "      <td>2014239</td>\n",
       "      <td>No</td>\n",
       "    </tr>\n",
       "    <tr>\n",
       "      <th>10</th>\n",
       "      <td>NVC424KZ</td>\n",
       "      <td>Male</td>\n",
       "      <td>53</td>\n",
       "      <td>RG254</td>\n",
       "      <td>Self_Employed</td>\n",
       "      <td>X3</td>\n",
       "      <td>123</td>\n",
       "      <td>No</td>\n",
       "      <td>980664</td>\n",
       "      <td>Yes</td>\n",
       "    </tr>\n",
       "    <tr>\n",
       "      <th>11</th>\n",
       "      <td>GZ5TMYIR</td>\n",
       "      <td>Male</td>\n",
       "      <td>27</td>\n",
       "      <td>RG270</td>\n",
       "      <td>Self_Employed</td>\n",
       "      <td>X1</td>\n",
       "      <td>14</td>\n",
       "      <td>Yes</td>\n",
       "      <td>502787</td>\n",
       "      <td>No</td>\n",
       "    </tr>\n",
       "    <tr>\n",
       "      <th>12</th>\n",
       "      <td>FCPEEIY3</td>\n",
       "      <td>Female</td>\n",
       "      <td>27</td>\n",
       "      <td>RG277</td>\n",
       "      <td>Salaried</td>\n",
       "      <td>X1</td>\n",
       "      <td>20</td>\n",
       "      <td>No</td>\n",
       "      <td>811591</td>\n",
       "      <td>Yes</td>\n",
       "    </tr>\n",
       "    <tr>\n",
       "      <th>13</th>\n",
       "      <td>KCE7JSFN</td>\n",
       "      <td>Male</td>\n",
       "      <td>31</td>\n",
       "      <td>RG254</td>\n",
       "      <td>Salaried</td>\n",
       "      <td>X1</td>\n",
       "      <td>31</td>\n",
       "      <td>Yes</td>\n",
       "      <td>938754</td>\n",
       "      <td>No</td>\n",
       "    </tr>\n",
       "    <tr>\n",
       "      <th>14</th>\n",
       "      <td>EMEEHHBK</td>\n",
       "      <td>Male</td>\n",
       "      <td>79</td>\n",
       "      <td>RG277</td>\n",
       "      <td>Other</td>\n",
       "      <td>X3</td>\n",
       "      <td>57</td>\n",
       "      <td>No</td>\n",
       "      <td>832185</td>\n",
       "      <td>Yes</td>\n",
       "    </tr>\n",
       "    <tr>\n",
       "      <th>15</th>\n",
       "      <td>UJ2NJKKL</td>\n",
       "      <td>Male</td>\n",
       "      <td>33</td>\n",
       "      <td>RG268</td>\n",
       "      <td>Self_Employed</td>\n",
       "      <td>X2</td>\n",
       "      <td>69</td>\n",
       "      <td>No</td>\n",
       "      <td>517063</td>\n",
       "      <td>Yes</td>\n",
       "    </tr>\n",
       "  </tbody>\n",
       "</table>\n",
       "</div>"
      ],
      "text/plain": [
       "          ID  Gender  Age Region_Code     Occupation Channel_Code  Vintage  \\\n",
       "0   NNVBBKZB  Female   73       RG268          Other           X3       43   \n",
       "1   IDD62UNG  Female   30       RG277       Salaried           X1       32   \n",
       "2   HD3DSEMC  Female   56       RG268  Self_Employed           X3       26   \n",
       "3   BF3NC7KV    Male   34       RG270       Salaried           X1       19   \n",
       "4   TEASRWXV  Female   30       RG282       Salaried           X1       33   \n",
       "5   ACUTYTWS    Male   56       RG261  Self_Employed           X1       32   \n",
       "6   ETQCZFEJ    Male   62       RG282          Other           X3       20   \n",
       "7   JJNJUQMQ  Female   48       RG265  Self_Employed           X3       13   \n",
       "8   ZMQFYKCB  Female   40       RG283  Self_Employed           X2       38   \n",
       "9   NVKTFBA2  Female   55       RG268  Self_Employed           X2       49   \n",
       "10  NVC424KZ    Male   53       RG254  Self_Employed           X3      123   \n",
       "11  GZ5TMYIR    Male   27       RG270  Self_Employed           X1       14   \n",
       "12  FCPEEIY3  Female   27       RG277       Salaried           X1       20   \n",
       "13  KCE7JSFN    Male   31       RG254       Salaried           X1       31   \n",
       "14  EMEEHHBK    Male   79       RG277          Other           X3       57   \n",
       "15  UJ2NJKKL    Male   33       RG268  Self_Employed           X2       69   \n",
       "\n",
       "   Credit_Product  Avg_Account_Balance Is_Active  \n",
       "0              No              1045696        No  \n",
       "1              No               581988        No  \n",
       "2              No              1484315       Yes  \n",
       "3              No               470454        No  \n",
       "4              No               886787        No  \n",
       "5              No               544163       Yes  \n",
       "6              No              1056750       Yes  \n",
       "7              No               444724       Yes  \n",
       "8              No              1274284        No  \n",
       "9             Yes              2014239        No  \n",
       "10             No               980664       Yes  \n",
       "11            Yes               502787        No  \n",
       "12             No               811591       Yes  \n",
       "13            Yes               938754        No  \n",
       "14             No               832185       Yes  \n",
       "15             No               517063       Yes  "
      ]
     },
     "execution_count": 47,
     "metadata": {},
     "output_type": "execute_result"
    }
   ],
   "source": [
    "#whole_df.isna().sum()\n",
    "#whole_df.head(10)\n",
    "\n",
    "whole_df.sort_index(axis=0, inplace=True)\n",
    "whole_df.head(16)"
   ]
  },
  {
   "cell_type": "code",
   "execution_count": 48,
   "id": "e91a812d",
   "metadata": {},
   "outputs": [],
   "source": [
    "from sklearn.preprocessing import LabelEncoder\n",
    "\n",
    "Gender = pd.get_dummies(whole_df.Gender, drop_first=True)\n",
    "Channer_Code = pd.get_dummies(whole_df.Channel_Code, drop_first=True)\n",
    "Credit_Product = pd.get_dummies(whole_df.Credit_Product, drop_first=True)\n",
    "Occupation = pd.get_dummies(whole_df.Occupation, drop_first=True)\n",
    "Is_Active = pd.get_dummies(whole_df.Is_Active, drop_first=True)\n",
    "\n",
    "whole_df.Region_Code = LabelEncoder().fit_transform(whole_df.Region_Code)"
   ]
  },
  {
   "cell_type": "code",
   "execution_count": 49,
   "id": "cbb0a5d4",
   "metadata": {},
   "outputs": [
    {
     "data": {
      "text/html": [
       "<div>\n",
       "<style scoped>\n",
       "    .dataframe tbody tr th:only-of-type {\n",
       "        vertical-align: middle;\n",
       "    }\n",
       "\n",
       "    .dataframe tbody tr th {\n",
       "        vertical-align: top;\n",
       "    }\n",
       "\n",
       "    .dataframe thead th {\n",
       "        text-align: right;\n",
       "    }\n",
       "</style>\n",
       "<table border=\"1\" class=\"dataframe\">\n",
       "  <thead>\n",
       "    <tr style=\"text-align: right;\">\n",
       "      <th></th>\n",
       "      <th>ID</th>\n",
       "      <th>Gender</th>\n",
       "      <th>Age</th>\n",
       "      <th>Region_Code</th>\n",
       "      <th>Occupation</th>\n",
       "      <th>Channel_Code</th>\n",
       "      <th>Vintage</th>\n",
       "      <th>Credit_Product</th>\n",
       "      <th>Avg_Account_Balance</th>\n",
       "      <th>Is_Active</th>\n",
       "    </tr>\n",
       "  </thead>\n",
       "  <tbody>\n",
       "    <tr>\n",
       "      <th>0</th>\n",
       "      <td>NNVBBKZB</td>\n",
       "      <td>Female</td>\n",
       "      <td>73</td>\n",
       "      <td>18</td>\n",
       "      <td>Other</td>\n",
       "      <td>X3</td>\n",
       "      <td>43</td>\n",
       "      <td>No</td>\n",
       "      <td>1045696</td>\n",
       "      <td>No</td>\n",
       "    </tr>\n",
       "  </tbody>\n",
       "</table>\n",
       "</div>"
      ],
      "text/plain": [
       "         ID  Gender  Age  Region_Code Occupation Channel_Code  Vintage  \\\n",
       "0  NNVBBKZB  Female   73           18      Other           X3       43   \n",
       "\n",
       "  Credit_Product  Avg_Account_Balance Is_Active  \n",
       "0             No              1045696        No  "
      ]
     },
     "execution_count": 49,
     "metadata": {},
     "output_type": "execute_result"
    }
   ],
   "source": [
    "whole_df.head(1)"
   ]
  },
  {
   "cell_type": "code",
   "execution_count": 50,
   "id": "bb36808b",
   "metadata": {},
   "outputs": [],
   "source": [
    "whole_df.drop(columns=['Gender','Channel_Code','Credit_Product','Occupation',\n",
    "                       'Is_Active'], inplace=True)"
   ]
  },
  {
   "cell_type": "code",
   "execution_count": 51,
   "id": "2aeb2cc5",
   "metadata": {},
   "outputs": [],
   "source": [
    "whole_df = pd.concat([whole_df.drop('ID',axis=1), Gender, Channer_Code, Credit_Product,Occupation,\n",
    "                      Is_Active.rename(columns={'Yes':'Is_Active'})], axis=1)"
   ]
  },
  {
   "cell_type": "code",
   "execution_count": 52,
   "id": "d66e489f",
   "metadata": {},
   "outputs": [
    {
     "data": {
      "text/html": [
       "<div>\n",
       "<style scoped>\n",
       "    .dataframe tbody tr th:only-of-type {\n",
       "        vertical-align: middle;\n",
       "    }\n",
       "\n",
       "    .dataframe tbody tr th {\n",
       "        vertical-align: top;\n",
       "    }\n",
       "\n",
       "    .dataframe thead th {\n",
       "        text-align: right;\n",
       "    }\n",
       "</style>\n",
       "<table border=\"1\" class=\"dataframe\">\n",
       "  <thead>\n",
       "    <tr style=\"text-align: right;\">\n",
       "      <th></th>\n",
       "      <th>Age</th>\n",
       "      <th>Region_Code</th>\n",
       "      <th>Vintage</th>\n",
       "      <th>Avg_Account_Balance</th>\n",
       "      <th>Male</th>\n",
       "      <th>X2</th>\n",
       "      <th>X3</th>\n",
       "      <th>X4</th>\n",
       "      <th>Yes</th>\n",
       "      <th>Other</th>\n",
       "      <th>Salaried</th>\n",
       "      <th>Self_Employed</th>\n",
       "      <th>Is_Active</th>\n",
       "    </tr>\n",
       "  </thead>\n",
       "  <tbody>\n",
       "    <tr>\n",
       "      <th>0</th>\n",
       "      <td>73</td>\n",
       "      <td>18</td>\n",
       "      <td>43</td>\n",
       "      <td>1045696</td>\n",
       "      <td>0</td>\n",
       "      <td>0</td>\n",
       "      <td>1</td>\n",
       "      <td>0</td>\n",
       "      <td>0</td>\n",
       "      <td>1</td>\n",
       "      <td>0</td>\n",
       "      <td>0</td>\n",
       "      <td>0</td>\n",
       "    </tr>\n",
       "  </tbody>\n",
       "</table>\n",
       "</div>"
      ],
      "text/plain": [
       "   Age  Region_Code  Vintage  Avg_Account_Balance  Male  X2  X3  X4  Yes  \\\n",
       "0   73           18       43              1045696     0   0   1   0    0   \n",
       "\n",
       "   Other  Salaried  Self_Employed  Is_Active  \n",
       "0      1         0              0          0  "
      ]
     },
     "execution_count": 52,
     "metadata": {},
     "output_type": "execute_result"
    }
   ],
   "source": [
    "whole_df.head(1)"
   ]
  },
  {
   "cell_type": "code",
   "execution_count": 53,
   "id": "57ff01bb",
   "metadata": {},
   "outputs": [
    {
     "data": {
      "text/plain": [
       "(245725, 14)"
      ]
     },
     "execution_count": 53,
     "metadata": {},
     "output_type": "execute_result"
    }
   ],
   "source": [
    "train_df = pd.concat([whole_df.loc[0:train_df.shape[0]-1], train_df.Is_Lead], axis=1)\n",
    "train_df.shape"
   ]
  },
  {
   "cell_type": "markdown",
   "id": "40a6fb12",
   "metadata": {},
   "source": [
    "# Using Machine Learning Algorithms to predict Outputs"
   ]
  },
  {
   "cell_type": "code",
   "execution_count": 54,
   "id": "e1f88f11",
   "metadata": {},
   "outputs": [],
   "source": [
    "from sklearn.model_selection import train_test_split\n",
    "from sklearn.preprocessing import MinMaxScaler\n",
    "from sklearn.metrics import accuracy_score,confusion_matrix,classification_report,precision_score,recall_score,f1_score\n",
    "from sklearn.linear_model import LogisticRegression as LR\n",
    "# from sklearn.neighbors import KNeighborsClassifier as KNN\n",
    "# from sklearn.svm import SVC\n",
    "#from sklearn.naive_bayes import GaussianNB as GNB\n",
    "from sklearn.tree import DecisionTreeClassifier as DT\n",
    "from sklearn.ensemble import RandomForestClassifier as RF"
   ]
  },
  {
   "cell_type": "code",
   "execution_count": 55,
   "id": "eafc9f3d",
   "metadata": {},
   "outputs": [],
   "source": [
    "def train_model(data, algorithm):\n",
    "    models, confusion_mat, report = [], [], []\n",
    "    for algo in algorithm:\n",
    "        if algo == 'lr':\n",
    "            train_data = MinMaxScaler().fit_transform(data.drop(columns='Is_Lead'))\n",
    "            X_train, X_test, y_train, y_test = train_test_split(train_data, data.Is_Lead,\n",
    "                                                        test_size=0.40, random_state=100)\n",
    "            model = LR().fit(X_train, y_train)\n",
    "            predictions = model.predict(X_test)\n",
    "            confusion_mat.append(confusion_matrix(y_test, predictions))\n",
    "            report.append(classification_report(y_test, predictions))\n",
    "            models.append(model)\n",
    "            #precision.append(precision_score(y_test,predictions))\n",
    "\n",
    "        else:\n",
    "            X_train, X_test, y_train, y_test = train_test_split(train_data, data.Is_Lead,\n",
    "                                                        test_size=0.40, random_state=100)\n",
    "            if algo == 'dt':\n",
    "                model = DT().fit(X_train, y_train)\n",
    "            elif algo == 'rf':\n",
    "                model = RF().fit(X_train, y_train)\n",
    "            predictions = model.predict(X_test)\n",
    "            confusion_mat.append(confusion_matrix(y_test, predictions))\n",
    "            report.append(classification_report(y_test, predictions))\n",
    "            models.append(model)\n",
    "            #precision.append(precision_score(y_test,predictions))\n",
    "            \n",
    "    return models, confusion_mat, report\n",
    "    "
   ]
  },
  {
   "cell_type": "markdown",
   "id": "8eed5e29",
   "metadata": {},
   "source": [
    "## Applying ML Algos to different datasets"
   ]
  },
  {
   "cell_type": "markdown",
   "id": "f29e2095",
   "metadata": {},
   "source": [
    "## 1). Original Data"
   ]
  },
  {
   "cell_type": "code",
   "execution_count": 56,
   "id": "81ae4518",
   "metadata": {},
   "outputs": [
    {
     "name": "stdout",
     "output_type": "stream",
     "text": [
      "LogisticRegression()\n",
      "[[71794  3277]\n",
      " [18713  4506]]\n",
      "              precision    recall  f1-score   support\n",
      "\n",
      "           0       0.79      0.96      0.87     75071\n",
      "           1       0.58      0.19      0.29     23219\n",
      "\n",
      "    accuracy                           0.78     98290\n",
      "   macro avg       0.69      0.58      0.58     98290\n",
      "weighted avg       0.74      0.78      0.73     98290\n",
      "\n",
      "DecisionTreeClassifier()\n",
      "[[60495 14576]\n",
      " [13535  9684]]\n",
      "              precision    recall  f1-score   support\n",
      "\n",
      "           0       0.82      0.81      0.81     75071\n",
      "           1       0.40      0.42      0.41     23219\n",
      "\n",
      "    accuracy                           0.71     98290\n",
      "   macro avg       0.61      0.61      0.61     98290\n",
      "weighted avg       0.72      0.71      0.72     98290\n",
      "\n",
      "RandomForestClassifier()\n",
      "[[69121  5950]\n",
      " [15771  7448]]\n",
      "              precision    recall  f1-score   support\n",
      "\n",
      "           0       0.81      0.92      0.86     75071\n",
      "           1       0.56      0.32      0.41     23219\n",
      "\n",
      "    accuracy                           0.78     98290\n",
      "   macro avg       0.69      0.62      0.64     98290\n",
      "weighted avg       0.75      0.78      0.76     98290\n",
      "\n"
     ]
    }
   ],
   "source": [
    "models, confusion_mat, report= train_model(train_df,['lr','dt','rf'])\n",
    "\n",
    "for i in range(0,3):\n",
    "    print(models[i])\n",
    "    print(confusion_mat[i])\n",
    "    print(report[i])"
   ]
  },
  {
   "cell_type": "markdown",
   "id": "7bc42543",
   "metadata": {},
   "source": [
    "## 2.) Handled imbalance Data with the different techniques"
   ]
  },
  {
   "cell_type": "code",
   "execution_count": 57,
   "id": "1714f53f",
   "metadata": {},
   "outputs": [
    {
     "name": "stdout",
     "output_type": "stream",
     "text": [
      "0    187437\n",
      "1     58288\n",
      "Name: Is_Lead, dtype: int64\n",
      "(187437, 14) (58288, 14)\n"
     ]
    }
   ],
   "source": [
    "print(train_df.Is_Lead.value_counts())\n",
    "\n",
    "# First dividing the data based on 0 and 1 for Is_Lead\n",
    "is_lead_0 = train_df[train_df.Is_Lead == 0]\n",
    "is_lead_1 = train_df[train_df.Is_Lead == 1]\n",
    "print(is_lead_0.shape, is_lead_1.shape)"
   ]
  },
  {
   "cell_type": "markdown",
   "id": "4ef0b4ae",
   "metadata": {},
   "source": [
    "## 2.1) DownSampling"
   ]
  },
  {
   "cell_type": "code",
   "execution_count": 58,
   "id": "59b8bce5",
   "metadata": {},
   "outputs": [
    {
     "name": "stdout",
     "output_type": "stream",
     "text": [
      "(58288, 14) (58288, 14)\n",
      "(116576, 14)\n"
     ]
    },
    {
     "data": {
      "text/html": [
       "<div>\n",
       "<style scoped>\n",
       "    .dataframe tbody tr th:only-of-type {\n",
       "        vertical-align: middle;\n",
       "    }\n",
       "\n",
       "    .dataframe tbody tr th {\n",
       "        vertical-align: top;\n",
       "    }\n",
       "\n",
       "    .dataframe thead th {\n",
       "        text-align: right;\n",
       "    }\n",
       "</style>\n",
       "<table border=\"1\" class=\"dataframe\">\n",
       "  <thead>\n",
       "    <tr style=\"text-align: right;\">\n",
       "      <th></th>\n",
       "      <th>Age</th>\n",
       "      <th>Region_Code</th>\n",
       "      <th>Vintage</th>\n",
       "      <th>Avg_Account_Balance</th>\n",
       "      <th>Male</th>\n",
       "      <th>X2</th>\n",
       "      <th>X3</th>\n",
       "      <th>X4</th>\n",
       "      <th>Yes</th>\n",
       "      <th>Other</th>\n",
       "      <th>Salaried</th>\n",
       "      <th>Self_Employed</th>\n",
       "      <th>Is_Active</th>\n",
       "      <th>Is_Lead</th>\n",
       "    </tr>\n",
       "  </thead>\n",
       "  <tbody>\n",
       "    <tr>\n",
       "      <th>0</th>\n",
       "      <td>33</td>\n",
       "      <td>4</td>\n",
       "      <td>68</td>\n",
       "      <td>832675</td>\n",
       "      <td>1</td>\n",
       "      <td>1</td>\n",
       "      <td>0</td>\n",
       "      <td>0</td>\n",
       "      <td>0</td>\n",
       "      <td>0</td>\n",
       "      <td>0</td>\n",
       "      <td>1</td>\n",
       "      <td>1</td>\n",
       "      <td>0</td>\n",
       "    </tr>\n",
       "    <tr>\n",
       "      <th>1</th>\n",
       "      <td>31</td>\n",
       "      <td>25</td>\n",
       "      <td>26</td>\n",
       "      <td>1019441</td>\n",
       "      <td>0</td>\n",
       "      <td>0</td>\n",
       "      <td>0</td>\n",
       "      <td>0</td>\n",
       "      <td>0</td>\n",
       "      <td>0</td>\n",
       "      <td>1</td>\n",
       "      <td>0</td>\n",
       "      <td>0</td>\n",
       "      <td>0</td>\n",
       "    </tr>\n",
       "  </tbody>\n",
       "</table>\n",
       "</div>"
      ],
      "text/plain": [
       "   Age  Region_Code  Vintage  Avg_Account_Balance  Male  X2  X3  X4  Yes  \\\n",
       "0   33            4       68               832675     1   1   0   0    0   \n",
       "1   31           25       26              1019441     0   0   0   0    0   \n",
       "\n",
       "   Other  Salaried  Self_Employed  Is_Active  Is_Lead  \n",
       "0      0         0              1          1        0  \n",
       "1      0         1              0          0        0  "
      ]
     },
     "execution_count": 58,
     "metadata": {},
     "output_type": "execute_result"
    }
   ],
   "source": [
    "# DownSamplling -  choosing only that much record from majority class as \n",
    "#                  there are in minority class\n",
    "\n",
    "is_lead_0_d = is_lead_0.sample(is_lead_1.shape[0])\n",
    "\n",
    "# lets check the size again after downsampling\n",
    "print(is_lead_0_d.shape, is_lead_1.shape)\n",
    "\n",
    "# creating a dataframe for downsampled records\n",
    "train_df_ds = pd.concat([is_lead_0_d, is_lead_1], axis=0, ignore_index=True)\n",
    "print(train_df_ds.shape)\n",
    "train_df_ds.head(2)"
   ]
  },
  {
   "cell_type": "code",
   "execution_count": 59,
   "id": "902ad6be",
   "metadata": {},
   "outputs": [
    {
     "name": "stdout",
     "output_type": "stream",
     "text": [
      "LogisticRegression()\n",
      "[[14602  8647]\n",
      " [ 6304 17078]]\n",
      "              precision    recall  f1-score   support\n",
      "\n",
      "           0       0.70      0.63      0.66     23249\n",
      "           1       0.66      0.73      0.70     23382\n",
      "\n",
      "    accuracy                           0.68     46631\n",
      "   macro avg       0.68      0.68      0.68     46631\n",
      "weighted avg       0.68      0.68      0.68     46631\n",
      "\n",
      "DecisionTreeClassifier()\n",
      "[[14635  8614]\n",
      " [ 8692 14690]]\n",
      "              precision    recall  f1-score   support\n",
      "\n",
      "           0       0.63      0.63      0.63     23249\n",
      "           1       0.63      0.63      0.63     23382\n",
      "\n",
      "    accuracy                           0.63     46631\n",
      "   macro avg       0.63      0.63      0.63     46631\n",
      "weighted avg       0.63      0.63      0.63     46631\n",
      "\n",
      "RandomForestClassifier()\n",
      "[[15921  7328]\n",
      " [ 6564 16818]]\n",
      "              precision    recall  f1-score   support\n",
      "\n",
      "           0       0.71      0.68      0.70     23249\n",
      "           1       0.70      0.72      0.71     23382\n",
      "\n",
      "    accuracy                           0.70     46631\n",
      "   macro avg       0.70      0.70      0.70     46631\n",
      "weighted avg       0.70      0.70      0.70     46631\n",
      "\n"
     ]
    }
   ],
   "source": [
    "models_ds, confusion_mat_ds, report_ds = train_model(train_df_ds,['lr','dt','rf'])\n",
    "\n",
    "for i in range(0,3):\n",
    "    print(models_ds[i])\n",
    "    print(confusion_mat_ds[i])\n",
    "    print(report_ds[i])"
   ]
  },
  {
   "cell_type": "markdown",
   "id": "6078f1fc",
   "metadata": {},
   "source": [
    "## Upsampling"
   ]
  },
  {
   "cell_type": "code",
   "execution_count": 60,
   "id": "b1c9ab5a",
   "metadata": {},
   "outputs": [
    {
     "name": "stdout",
     "output_type": "stream",
     "text": [
      "(187437, 14) (187437, 14)\n"
     ]
    },
    {
     "data": {
      "text/plain": [
       "(374874, 14)"
      ]
     },
     "execution_count": 60,
     "metadata": {},
     "output_type": "execute_result"
    }
   ],
   "source": [
    "# UpSamplling -  filling duplicate random enteries in minor class to make its count reach\n",
    "#                to major class count. replace = True is mandatory\n",
    "\n",
    "is_lead_1_u = is_lead_1.sample(is_lead_0.shape[0], replace = True)\n",
    "\n",
    "print(is_lead_1_u.shape, is_lead_0.shape)\n",
    "\n",
    "train_df_us = pd.concat([is_lead_1_u, is_lead_0], axis=0, ignore_index=True)\n",
    "train_df_us.shape\n",
    "#train_df_us"
   ]
  },
  {
   "cell_type": "code",
   "execution_count": 61,
   "id": "6156b86b",
   "metadata": {},
   "outputs": [
    {
     "name": "stdout",
     "output_type": "stream",
     "text": [
      "LogisticRegression()\n",
      "[[47423 27750]\n",
      " [20015 54762]]\n",
      "              precision    recall  f1-score   support\n",
      "\n",
      "           0       0.70      0.63      0.67     75173\n",
      "           1       0.66      0.73      0.70     74777\n",
      "\n",
      "    accuracy                           0.68    149950\n",
      "   macro avg       0.68      0.68      0.68    149950\n",
      "weighted avg       0.68      0.68      0.68    149950\n",
      "\n",
      "DecisionTreeClassifier()\n",
      "[[57427 17746]\n",
      " [ 5586 69191]]\n",
      "              precision    recall  f1-score   support\n",
      "\n",
      "           0       0.91      0.76      0.83     75173\n",
      "           1       0.80      0.93      0.86     74777\n",
      "\n",
      "    accuracy                           0.84    149950\n",
      "   macro avg       0.85      0.84      0.84    149950\n",
      "weighted avg       0.85      0.84      0.84    149950\n",
      "\n",
      "RandomForestClassifier()\n",
      "[[60895 14278]\n",
      " [ 5011 69766]]\n",
      "              precision    recall  f1-score   support\n",
      "\n",
      "           0       0.92      0.81      0.86     75173\n",
      "           1       0.83      0.93      0.88     74777\n",
      "\n",
      "    accuracy                           0.87    149950\n",
      "   macro avg       0.88      0.87      0.87    149950\n",
      "weighted avg       0.88      0.87      0.87    149950\n",
      "\n"
     ]
    }
   ],
   "source": [
    "models_us, confusion_mat_us, report_us = train_model(train_df_us,['lr','dt','rf'])\n",
    "\n",
    "for i in range(0,3):\n",
    "    print(models_us[i])\n",
    "    print(confusion_mat_us[i])\n",
    "    print(report_us[i])"
   ]
  },
  {
   "cell_type": "markdown",
   "id": "7a439bec",
   "metadata": {},
   "source": [
    "## SMOTE"
   ]
  },
  {
   "cell_type": "code",
   "execution_count": 62,
   "id": "964f0da1",
   "metadata": {},
   "outputs": [
    {
     "name": "stdout",
     "output_type": "stream",
     "text": [
      "0    187437\n",
      "1    187437\n",
      "Name: Is_Lead, dtype: int64\n"
     ]
    },
    {
     "data": {
      "text/html": [
       "<div>\n",
       "<style scoped>\n",
       "    .dataframe tbody tr th:only-of-type {\n",
       "        vertical-align: middle;\n",
       "    }\n",
       "\n",
       "    .dataframe tbody tr th {\n",
       "        vertical-align: top;\n",
       "    }\n",
       "\n",
       "    .dataframe thead th {\n",
       "        text-align: right;\n",
       "    }\n",
       "</style>\n",
       "<table border=\"1\" class=\"dataframe\">\n",
       "  <thead>\n",
       "    <tr style=\"text-align: right;\">\n",
       "      <th></th>\n",
       "      <th>Age</th>\n",
       "      <th>Region_Code</th>\n",
       "      <th>Vintage</th>\n",
       "      <th>Avg_Account_Balance</th>\n",
       "      <th>Male</th>\n",
       "      <th>X2</th>\n",
       "      <th>X3</th>\n",
       "      <th>X4</th>\n",
       "      <th>Yes</th>\n",
       "      <th>Other</th>\n",
       "      <th>Salaried</th>\n",
       "      <th>Self_Employed</th>\n",
       "      <th>Is_Active</th>\n",
       "      <th>Is_Lead</th>\n",
       "    </tr>\n",
       "  </thead>\n",
       "  <tbody>\n",
       "    <tr>\n",
       "      <th>0</th>\n",
       "      <td>73</td>\n",
       "      <td>18</td>\n",
       "      <td>43</td>\n",
       "      <td>1045696</td>\n",
       "      <td>0</td>\n",
       "      <td>0</td>\n",
       "      <td>1</td>\n",
       "      <td>0</td>\n",
       "      <td>0</td>\n",
       "      <td>1</td>\n",
       "      <td>0</td>\n",
       "      <td>0</td>\n",
       "      <td>0</td>\n",
       "      <td>0</td>\n",
       "    </tr>\n",
       "    <tr>\n",
       "      <th>1</th>\n",
       "      <td>30</td>\n",
       "      <td>27</td>\n",
       "      <td>32</td>\n",
       "      <td>581988</td>\n",
       "      <td>0</td>\n",
       "      <td>0</td>\n",
       "      <td>0</td>\n",
       "      <td>0</td>\n",
       "      <td>0</td>\n",
       "      <td>0</td>\n",
       "      <td>1</td>\n",
       "      <td>0</td>\n",
       "      <td>0</td>\n",
       "      <td>0</td>\n",
       "    </tr>\n",
       "  </tbody>\n",
       "</table>\n",
       "</div>"
      ],
      "text/plain": [
       "   Age  Region_Code  Vintage  Avg_Account_Balance  Male  X2  X3  X4  Yes  \\\n",
       "0   73           18       43              1045696     0   0   1   0    0   \n",
       "1   30           27       32               581988     0   0   0   0    0   \n",
       "\n",
       "   Other  Salaried  Self_Employed  Is_Active  Is_Lead  \n",
       "0      1         0              0          0        0  \n",
       "1      0         1              0          0        0  "
      ]
     },
     "execution_count": 62,
     "metadata": {},
     "output_type": "execute_result"
    }
   ],
   "source": [
    "from imblearn.over_sampling import SMOTE\n",
    "\n",
    "smote = SMOTE(sampling_strategy='minority')\n",
    "X_train_sm, y_train_sm = smote.fit_resample(train_df.drop(columns='Is_Lead'),\n",
    "                                            train_df.Is_Lead)\n",
    "# checking the results\n",
    "print(y_train_sm.value_counts())\n",
    "\n",
    "train_df_sm = pd.concat([X_train_sm, y_train_sm], axis=1)\n",
    "train_df_sm.head(2)"
   ]
  },
  {
   "cell_type": "code",
   "execution_count": 63,
   "id": "20b824ea",
   "metadata": {},
   "outputs": [
    {
     "name": "stdout",
     "output_type": "stream",
     "text": [
      "LogisticRegression()\n",
      "[[62293 12517]\n",
      " [23901 51239]]\n",
      "              precision    recall  f1-score   support\n",
      "\n",
      "           0       0.72      0.83      0.77     74810\n",
      "           1       0.80      0.68      0.74     75140\n",
      "\n",
      "    accuracy                           0.76    149950\n",
      "   macro avg       0.76      0.76      0.76    149950\n",
      "weighted avg       0.76      0.76      0.76    149950\n",
      "\n",
      "DecisionTreeClassifier()\n",
      "[[57156 17654]\n",
      " [16454 58686]]\n",
      "              precision    recall  f1-score   support\n",
      "\n",
      "           0       0.78      0.76      0.77     74810\n",
      "           1       0.77      0.78      0.77     75140\n",
      "\n",
      "    accuracy                           0.77    149950\n",
      "   macro avg       0.77      0.77      0.77    149950\n",
      "weighted avg       0.77      0.77      0.77    149950\n",
      "\n",
      "RandomForestClassifier()\n",
      "[[64659 10151]\n",
      " [17166 57974]]\n",
      "              precision    recall  f1-score   support\n",
      "\n",
      "           0       0.79      0.86      0.83     74810\n",
      "           1       0.85      0.77      0.81     75140\n",
      "\n",
      "    accuracy                           0.82    149950\n",
      "   macro avg       0.82      0.82      0.82    149950\n",
      "weighted avg       0.82      0.82      0.82    149950\n",
      "\n"
     ]
    }
   ],
   "source": [
    "models_sm, confusion_mat_sm, report_sm = train_model(train_df_sm,['lr','dt','rf'])\n",
    "\n",
    "for i in range(0,3):\n",
    "    print(models_sm[i])\n",
    "    print(confusion_mat_sm[i])\n",
    "    print(report_sm[i])"
   ]
  },
  {
   "cell_type": "markdown",
   "id": "373ad021",
   "metadata": {},
   "source": [
    "## ADASYN"
   ]
  },
  {
   "cell_type": "code",
   "execution_count": 64,
   "id": "0567ad04",
   "metadata": {},
   "outputs": [
    {
     "name": "stdout",
     "output_type": "stream",
     "text": [
      "0    187437\n",
      "1    178524\n",
      "Name: Is_Lead, dtype: int64\n"
     ]
    },
    {
     "data": {
      "text/html": [
       "<div>\n",
       "<style scoped>\n",
       "    .dataframe tbody tr th:only-of-type {\n",
       "        vertical-align: middle;\n",
       "    }\n",
       "\n",
       "    .dataframe tbody tr th {\n",
       "        vertical-align: top;\n",
       "    }\n",
       "\n",
       "    .dataframe thead th {\n",
       "        text-align: right;\n",
       "    }\n",
       "</style>\n",
       "<table border=\"1\" class=\"dataframe\">\n",
       "  <thead>\n",
       "    <tr style=\"text-align: right;\">\n",
       "      <th></th>\n",
       "      <th>Age</th>\n",
       "      <th>Region_Code</th>\n",
       "      <th>Vintage</th>\n",
       "      <th>Avg_Account_Balance</th>\n",
       "      <th>Male</th>\n",
       "      <th>X2</th>\n",
       "      <th>X3</th>\n",
       "      <th>X4</th>\n",
       "      <th>Yes</th>\n",
       "      <th>Other</th>\n",
       "      <th>Salaried</th>\n",
       "      <th>Self_Employed</th>\n",
       "      <th>Is_Active</th>\n",
       "      <th>Is_Lead</th>\n",
       "    </tr>\n",
       "  </thead>\n",
       "  <tbody>\n",
       "    <tr>\n",
       "      <th>0</th>\n",
       "      <td>73</td>\n",
       "      <td>18</td>\n",
       "      <td>43</td>\n",
       "      <td>1045696</td>\n",
       "      <td>0</td>\n",
       "      <td>0</td>\n",
       "      <td>1</td>\n",
       "      <td>0</td>\n",
       "      <td>0</td>\n",
       "      <td>1</td>\n",
       "      <td>0</td>\n",
       "      <td>0</td>\n",
       "      <td>0</td>\n",
       "      <td>0</td>\n",
       "    </tr>\n",
       "    <tr>\n",
       "      <th>1</th>\n",
       "      <td>30</td>\n",
       "      <td>27</td>\n",
       "      <td>32</td>\n",
       "      <td>581988</td>\n",
       "      <td>0</td>\n",
       "      <td>0</td>\n",
       "      <td>0</td>\n",
       "      <td>0</td>\n",
       "      <td>0</td>\n",
       "      <td>0</td>\n",
       "      <td>1</td>\n",
       "      <td>0</td>\n",
       "      <td>0</td>\n",
       "      <td>0</td>\n",
       "    </tr>\n",
       "  </tbody>\n",
       "</table>\n",
       "</div>"
      ],
      "text/plain": [
       "   Age  Region_Code  Vintage  Avg_Account_Balance  Male  X2  X3  X4  Yes  \\\n",
       "0   73           18       43              1045696     0   0   1   0    0   \n",
       "1   30           27       32               581988     0   0   0   0    0   \n",
       "\n",
       "   Other  Salaried  Self_Employed  Is_Active  Is_Lead  \n",
       "0      1         0              0          0        0  \n",
       "1      0         1              0          0        0  "
      ]
     },
     "execution_count": 64,
     "metadata": {},
     "output_type": "execute_result"
    }
   ],
   "source": [
    "from imblearn.over_sampling import ADASYN\n",
    "\n",
    "# oversampling the train dataset using ADASYN\n",
    "ada = ADASYN(random_state=130)\n",
    "X_train_ada, y_train_ada = ada.fit_resample(train_df.drop(columns='Is_Lead'),\n",
    "                                            train_df.Is_Lead)\n",
    "# checking the results\n",
    "print(y_train_ada.value_counts())\n",
    "\n",
    "train_df_ada = pd.concat([X_train_ada, y_train_ada], axis=1)\n",
    "train_df_ada.head(2)"
   ]
  },
  {
   "cell_type": "code",
   "execution_count": 65,
   "id": "b8544d19",
   "metadata": {},
   "outputs": [
    {
     "name": "stdout",
     "output_type": "stream",
     "text": [
      "LogisticRegression()\n",
      "[[63132 11535]\n",
      " [24801 46917]]\n",
      "              precision    recall  f1-score   support\n",
      "\n",
      "           0       0.72      0.85      0.78     74667\n",
      "           1       0.80      0.65      0.72     71718\n",
      "\n",
      "    accuracy                           0.75    146385\n",
      "   macro avg       0.76      0.75      0.75    146385\n",
      "weighted avg       0.76      0.75      0.75    146385\n",
      "\n",
      "DecisionTreeClassifier()\n",
      "[[57261 17406]\n",
      " [16571 55147]]\n",
      "              precision    recall  f1-score   support\n",
      "\n",
      "           0       0.78      0.77      0.77     74667\n",
      "           1       0.76      0.77      0.76     71718\n",
      "\n",
      "    accuracy                           0.77    146385\n",
      "   macro avg       0.77      0.77      0.77    146385\n",
      "weighted avg       0.77      0.77      0.77    146385\n",
      "\n",
      "RandomForestClassifier()\n",
      "[[64833  9834]\n",
      " [17348 54370]]\n",
      "              precision    recall  f1-score   support\n",
      "\n",
      "           0       0.79      0.87      0.83     74667\n",
      "           1       0.85      0.76      0.80     71718\n",
      "\n",
      "    accuracy                           0.81    146385\n",
      "   macro avg       0.82      0.81      0.81    146385\n",
      "weighted avg       0.82      0.81      0.81    146385\n",
      "\n"
     ]
    }
   ],
   "source": [
    "models_ada, confusion_mat_ada, report_ada = train_model(train_df_ada,['lr','dt','rf'])\n",
    "\n",
    "for i in range(0,3):\n",
    "    print(models_ada[i])\n",
    "    print(confusion_mat_ada[i])\n",
    "    print(report_ada[i])"
   ]
  },
  {
   "cell_type": "markdown",
   "id": "33249db3",
   "metadata": {},
   "source": [
    "## SMOTE + TOMEK"
   ]
  },
  {
   "cell_type": "code",
   "execution_count": 66,
   "id": "d2437afa",
   "metadata": {},
   "outputs": [
    {
     "name": "stdout",
     "output_type": "stream",
     "text": [
      "0    170148\n",
      "1    170148\n",
      "Name: Is_Lead, dtype: int64\n"
     ]
    },
    {
     "data": {
      "text/html": [
       "<div>\n",
       "<style scoped>\n",
       "    .dataframe tbody tr th:only-of-type {\n",
       "        vertical-align: middle;\n",
       "    }\n",
       "\n",
       "    .dataframe tbody tr th {\n",
       "        vertical-align: top;\n",
       "    }\n",
       "\n",
       "    .dataframe thead th {\n",
       "        text-align: right;\n",
       "    }\n",
       "</style>\n",
       "<table border=\"1\" class=\"dataframe\">\n",
       "  <thead>\n",
       "    <tr style=\"text-align: right;\">\n",
       "      <th></th>\n",
       "      <th>Age</th>\n",
       "      <th>Region_Code</th>\n",
       "      <th>Vintage</th>\n",
       "      <th>Avg_Account_Balance</th>\n",
       "      <th>Male</th>\n",
       "      <th>X2</th>\n",
       "      <th>X3</th>\n",
       "      <th>X4</th>\n",
       "      <th>Yes</th>\n",
       "      <th>Other</th>\n",
       "      <th>Salaried</th>\n",
       "      <th>Self_Employed</th>\n",
       "      <th>Is_Active</th>\n",
       "      <th>Is_Lead</th>\n",
       "    </tr>\n",
       "  </thead>\n",
       "  <tbody>\n",
       "    <tr>\n",
       "      <th>0</th>\n",
       "      <td>73</td>\n",
       "      <td>18</td>\n",
       "      <td>43</td>\n",
       "      <td>1045696</td>\n",
       "      <td>0</td>\n",
       "      <td>0</td>\n",
       "      <td>1</td>\n",
       "      <td>0</td>\n",
       "      <td>0</td>\n",
       "      <td>1</td>\n",
       "      <td>0</td>\n",
       "      <td>0</td>\n",
       "      <td>0</td>\n",
       "      <td>0</td>\n",
       "    </tr>\n",
       "    <tr>\n",
       "      <th>1</th>\n",
       "      <td>30</td>\n",
       "      <td>27</td>\n",
       "      <td>32</td>\n",
       "      <td>581988</td>\n",
       "      <td>0</td>\n",
       "      <td>0</td>\n",
       "      <td>0</td>\n",
       "      <td>0</td>\n",
       "      <td>0</td>\n",
       "      <td>0</td>\n",
       "      <td>1</td>\n",
       "      <td>0</td>\n",
       "      <td>0</td>\n",
       "      <td>0</td>\n",
       "    </tr>\n",
       "  </tbody>\n",
       "</table>\n",
       "</div>"
      ],
      "text/plain": [
       "   Age  Region_Code  Vintage  Avg_Account_Balance  Male  X2  X3  X4  Yes  \\\n",
       "0   73           18       43              1045696     0   0   1   0    0   \n",
       "1   30           27       32               581988     0   0   0   0    0   \n",
       "\n",
       "   Other  Salaried  Self_Employed  Is_Active  Is_Lead  \n",
       "0      1         0              0          0        0  \n",
       "1      0         1              0          0        0  "
      ]
     },
     "execution_count": 66,
     "metadata": {},
     "output_type": "execute_result"
    }
   ],
   "source": [
    "from imblearn.combine import SMOTETomek\n",
    "\n",
    "# oversampling the train dataset using SMOTE + Tomek\n",
    "smtom = SMOTETomek(random_state=139)\n",
    "X_train_smtom, y_train_smtom = smtom.fit_resample(train_df.drop(columns='Is_Lead'),\n",
    "                                            train_df.Is_Lead)\n",
    "# checking the results\n",
    "print(y_train_smtom.value_counts())\n",
    "\n",
    "train_df_smtom = pd.concat([X_train_smtom, y_train_smtom], axis=1)\n",
    "train_df_smtom.head(2)"
   ]
  },
  {
   "cell_type": "code",
   "execution_count": 68,
   "id": "6cb82dbe",
   "metadata": {},
   "outputs": [
    {
     "name": "stdout",
     "output_type": "stream",
     "text": [
      "LogisticRegression()\n",
      "[[56612 11442]\n",
      " [20023 48042]]\n",
      "              precision    recall  f1-score   support\n",
      "\n",
      "           0       0.74      0.83      0.78     68054\n",
      "           1       0.81      0.71      0.75     68065\n",
      "\n",
      "    accuracy                           0.77    136119\n",
      "   macro avg       0.77      0.77      0.77    136119\n",
      "weighted avg       0.77      0.77      0.77    136119\n",
      "\n",
      "DecisionTreeClassifier()\n",
      "[[52849 15205]\n",
      " [14482 53583]]\n",
      "              precision    recall  f1-score   support\n",
      "\n",
      "           0       0.78      0.78      0.78     68054\n",
      "           1       0.78      0.79      0.78     68065\n",
      "\n",
      "    accuracy                           0.78    136119\n",
      "   macro avg       0.78      0.78      0.78    136119\n",
      "weighted avg       0.78      0.78      0.78    136119\n",
      "\n",
      "RandomForestClassifier()\n",
      "[[59209  8845]\n",
      " [14407 53658]]\n",
      "              precision    recall  f1-score   support\n",
      "\n",
      "           0       0.80      0.87      0.84     68054\n",
      "           1       0.86      0.79      0.82     68065\n",
      "\n",
      "    accuracy                           0.83    136119\n",
      "   macro avg       0.83      0.83      0.83    136119\n",
      "weighted avg       0.83      0.83      0.83    136119\n",
      "\n"
     ]
    }
   ],
   "source": [
    "models_smtom, confusion_mat_smtom, report_smtom = train_model(train_df_smtom,['lr','dt','rf'])\n",
    "\n",
    "for i in range(0,3):\n",
    "    print(models_smtom[i])\n",
    "    print(confusion_mat_smtom[i])\n",
    "    print(report_smtom[i])"
   ]
  },
  {
   "cell_type": "markdown",
   "id": "e2f68bce",
   "metadata": {},
   "source": [
    "## SMOTE + ENN"
   ]
  },
  {
   "cell_type": "code",
   "execution_count": 69,
   "id": "0cb5f1d2",
   "metadata": {},
   "outputs": [
    {
     "name": "stdout",
     "output_type": "stream",
     "text": [
      "1    100340\n",
      "0     75857\n",
      "Name: Is_Lead, dtype: int64\n"
     ]
    },
    {
     "data": {
      "text/html": [
       "<div>\n",
       "<style scoped>\n",
       "    .dataframe tbody tr th:only-of-type {\n",
       "        vertical-align: middle;\n",
       "    }\n",
       "\n",
       "    .dataframe tbody tr th {\n",
       "        vertical-align: top;\n",
       "    }\n",
       "\n",
       "    .dataframe thead th {\n",
       "        text-align: right;\n",
       "    }\n",
       "</style>\n",
       "<table border=\"1\" class=\"dataframe\">\n",
       "  <thead>\n",
       "    <tr style=\"text-align: right;\">\n",
       "      <th></th>\n",
       "      <th>Age</th>\n",
       "      <th>Region_Code</th>\n",
       "      <th>Vintage</th>\n",
       "      <th>Avg_Account_Balance</th>\n",
       "      <th>Male</th>\n",
       "      <th>X2</th>\n",
       "      <th>X3</th>\n",
       "      <th>X4</th>\n",
       "      <th>Yes</th>\n",
       "      <th>Other</th>\n",
       "      <th>Salaried</th>\n",
       "      <th>Self_Employed</th>\n",
       "      <th>Is_Active</th>\n",
       "      <th>Is_Lead</th>\n",
       "    </tr>\n",
       "  </thead>\n",
       "  <tbody>\n",
       "    <tr>\n",
       "      <th>0</th>\n",
       "      <td>73</td>\n",
       "      <td>18</td>\n",
       "      <td>43</td>\n",
       "      <td>1045696</td>\n",
       "      <td>0</td>\n",
       "      <td>0</td>\n",
       "      <td>1</td>\n",
       "      <td>0</td>\n",
       "      <td>0</td>\n",
       "      <td>1</td>\n",
       "      <td>0</td>\n",
       "      <td>0</td>\n",
       "      <td>0</td>\n",
       "      <td>0</td>\n",
       "    </tr>\n",
       "    <tr>\n",
       "      <th>1</th>\n",
       "      <td>30</td>\n",
       "      <td>32</td>\n",
       "      <td>33</td>\n",
       "      <td>886787</td>\n",
       "      <td>0</td>\n",
       "      <td>0</td>\n",
       "      <td>0</td>\n",
       "      <td>0</td>\n",
       "      <td>0</td>\n",
       "      <td>0</td>\n",
       "      <td>1</td>\n",
       "      <td>0</td>\n",
       "      <td>0</td>\n",
       "      <td>0</td>\n",
       "    </tr>\n",
       "  </tbody>\n",
       "</table>\n",
       "</div>"
      ],
      "text/plain": [
       "   Age  Region_Code  Vintage  Avg_Account_Balance  Male  X2  X3  X4  Yes  \\\n",
       "0   73           18       43              1045696     0   0   1   0    0   \n",
       "1   30           32       33               886787     0   0   0   0    0   \n",
       "\n",
       "   Other  Salaried  Self_Employed  Is_Active  Is_Lead  \n",
       "0      1         0              0          0        0  \n",
       "1      0         1              0          0        0  "
      ]
     },
     "execution_count": 69,
     "metadata": {},
     "output_type": "execute_result"
    }
   ],
   "source": [
    "from imblearn.combine import SMOTEENN\n",
    "\n",
    "# oversampling the train dataset using SMOTE + ENN\n",
    "smenn = SMOTEENN()\n",
    "X_train_smenn, y_train_smenn = smenn.fit_resample(train_df.drop(columns='Is_Lead'),\n",
    "                                            train_df.Is_Lead)\n",
    "# checking the results\n",
    "print(y_train_smenn.value_counts())\n",
    "\n",
    "train_df_smenn = pd.concat([X_train_smenn, y_train_smenn], axis=1)\n",
    "train_df_smenn.head(2)"
   ]
  },
  {
   "cell_type": "code",
   "execution_count": 70,
   "id": "b4c89538",
   "metadata": {},
   "outputs": [
    {
     "name": "stdout",
     "output_type": "stream",
     "text": [
      "LogisticRegression()\n",
      "[[25774  4590]\n",
      " [ 5676 34439]]\n",
      "              precision    recall  f1-score   support\n",
      "\n",
      "           0       0.82      0.85      0.83     30364\n",
      "           1       0.88      0.86      0.87     40115\n",
      "\n",
      "    accuracy                           0.85     70479\n",
      "   macro avg       0.85      0.85      0.85     70479\n",
      "weighted avg       0.86      0.85      0.85     70479\n",
      "\n",
      "DecisionTreeClassifier()\n",
      "[[24887  5477]\n",
      " [ 5285 34830]]\n",
      "              precision    recall  f1-score   support\n",
      "\n",
      "           0       0.82      0.82      0.82     30364\n",
      "           1       0.86      0.87      0.87     40115\n",
      "\n",
      "    accuracy                           0.85     70479\n",
      "   macro avg       0.84      0.84      0.84     70479\n",
      "weighted avg       0.85      0.85      0.85     70479\n",
      "\n",
      "RandomForestClassifier()\n",
      "[[26385  3979]\n",
      " [ 4044 36071]]\n",
      "              precision    recall  f1-score   support\n",
      "\n",
      "           0       0.87      0.87      0.87     30364\n",
      "           1       0.90      0.90      0.90     40115\n",
      "\n",
      "    accuracy                           0.89     70479\n",
      "   macro avg       0.88      0.88      0.88     70479\n",
      "weighted avg       0.89      0.89      0.89     70479\n",
      "\n"
     ]
    }
   ],
   "source": [
    "models_smenn, confusion_mat_smenn, report_smenn = train_model(train_df_smenn,['lr','dt','rf'])\n",
    "\n",
    "for i in range(0,3):\n",
    "    print(models_smenn[i])\n",
    "    print(confusion_mat_smenn[i])\n",
    "    print(report_smenn[i])"
   ]
  },
  {
   "cell_type": "code",
   "execution_count": null,
   "id": "9c668560",
   "metadata": {},
   "outputs": [],
   "source": []
  }
 ],
 "metadata": {
  "kernelspec": {
   "display_name": "Python 3",
   "language": "python",
   "name": "python3"
  },
  "language_info": {
   "codemirror_mode": {
    "name": "ipython",
    "version": 3
   },
   "file_extension": ".py",
   "mimetype": "text/x-python",
   "name": "python",
   "nbconvert_exporter": "python",
   "pygments_lexer": "ipython3",
   "version": "3.8.5"
  }
 },
 "nbformat": 4,
 "nbformat_minor": 5
}
