{
 "cells": [
  {
   "cell_type": "code",
   "execution_count": 24,
   "id": "ec9a56a3",
   "metadata": {},
   "outputs": [],
   "source": [
    "import pandas as pd"
   ]
  },
  {
   "cell_type": "code",
   "execution_count": 25,
   "id": "5eccddee",
   "metadata": {},
   "outputs": [
    {
     "data": {
      "text/html": [
       "<div>\n",
       "<style scoped>\n",
       "    .dataframe tbody tr th:only-of-type {\n",
       "        vertical-align: middle;\n",
       "    }\n",
       "\n",
       "    .dataframe tbody tr th {\n",
       "        vertical-align: top;\n",
       "    }\n",
       "\n",
       "    .dataframe thead th {\n",
       "        text-align: right;\n",
       "    }\n",
       "</style>\n",
       "<table border=\"1\" class=\"dataframe\">\n",
       "  <thead>\n",
       "    <tr style=\"text-align: right;\">\n",
       "      <th></th>\n",
       "      <th>Fever</th>\n",
       "      <th>Tiredness</th>\n",
       "      <th>Dry-Cough</th>\n",
       "      <th>Difficulty-in-Breathing</th>\n",
       "      <th>Sore-Throat</th>\n",
       "      <th>Pains</th>\n",
       "      <th>Nasal-Congestion</th>\n",
       "      <th>Runny-Nose</th>\n",
       "      <th>Diarrhea</th>\n",
       "      <th>Age_10-19</th>\n",
       "      <th>Age_20-24</th>\n",
       "      <th>Age_25-59</th>\n",
       "      <th>Age_60+</th>\n",
       "      <th>Gender_Male</th>\n",
       "      <th>Gender_Transgender</th>\n",
       "      <th>Country</th>\n",
       "      <th>Target</th>\n",
       "    </tr>\n",
       "  </thead>\n",
       "  <tbody>\n",
       "    <tr>\n",
       "      <th>0</th>\n",
       "      <td>1</td>\n",
       "      <td>1</td>\n",
       "      <td>1</td>\n",
       "      <td>1</td>\n",
       "      <td>1</td>\n",
       "      <td>1</td>\n",
       "      <td>1</td>\n",
       "      <td>1</td>\n",
       "      <td>1</td>\n",
       "      <td>0</td>\n",
       "      <td>0</td>\n",
       "      <td>0</td>\n",
       "      <td>0</td>\n",
       "      <td>1</td>\n",
       "      <td>0</td>\n",
       "      <td>0.0</td>\n",
       "      <td>mild</td>\n",
       "    </tr>\n",
       "    <tr>\n",
       "      <th>1</th>\n",
       "      <td>1</td>\n",
       "      <td>1</td>\n",
       "      <td>1</td>\n",
       "      <td>1</td>\n",
       "      <td>1</td>\n",
       "      <td>1</td>\n",
       "      <td>1</td>\n",
       "      <td>1</td>\n",
       "      <td>1</td>\n",
       "      <td>0</td>\n",
       "      <td>0</td>\n",
       "      <td>0</td>\n",
       "      <td>0</td>\n",
       "      <td>1</td>\n",
       "      <td>0</td>\n",
       "      <td>0.0</td>\n",
       "      <td>mild</td>\n",
       "    </tr>\n",
       "    <tr>\n",
       "      <th>2</th>\n",
       "      <td>1</td>\n",
       "      <td>1</td>\n",
       "      <td>1</td>\n",
       "      <td>1</td>\n",
       "      <td>1</td>\n",
       "      <td>1</td>\n",
       "      <td>1</td>\n",
       "      <td>1</td>\n",
       "      <td>1</td>\n",
       "      <td>0</td>\n",
       "      <td>0</td>\n",
       "      <td>0</td>\n",
       "      <td>0</td>\n",
       "      <td>1</td>\n",
       "      <td>0</td>\n",
       "      <td>0.0</td>\n",
       "      <td>moderate</td>\n",
       "    </tr>\n",
       "    <tr>\n",
       "      <th>3</th>\n",
       "      <td>1</td>\n",
       "      <td>1</td>\n",
       "      <td>1</td>\n",
       "      <td>1</td>\n",
       "      <td>1</td>\n",
       "      <td>1</td>\n",
       "      <td>1</td>\n",
       "      <td>1</td>\n",
       "      <td>1</td>\n",
       "      <td>0</td>\n",
       "      <td>0</td>\n",
       "      <td>0</td>\n",
       "      <td>0</td>\n",
       "      <td>1</td>\n",
       "      <td>0</td>\n",
       "      <td>0.0</td>\n",
       "      <td>moderate</td>\n",
       "    </tr>\n",
       "    <tr>\n",
       "      <th>4</th>\n",
       "      <td>1</td>\n",
       "      <td>1</td>\n",
       "      <td>1</td>\n",
       "      <td>1</td>\n",
       "      <td>1</td>\n",
       "      <td>1</td>\n",
       "      <td>1</td>\n",
       "      <td>1</td>\n",
       "      <td>1</td>\n",
       "      <td>0</td>\n",
       "      <td>0</td>\n",
       "      <td>0</td>\n",
       "      <td>0</td>\n",
       "      <td>1</td>\n",
       "      <td>0</td>\n",
       "      <td>0.0</td>\n",
       "      <td>moderate</td>\n",
       "    </tr>\n",
       "  </tbody>\n",
       "</table>\n",
       "</div>"
      ],
      "text/plain": [
       "   Fever  Tiredness  Dry-Cough  Difficulty-in-Breathing  Sore-Throat  Pains  \\\n",
       "0      1          1          1                        1            1      1   \n",
       "1      1          1          1                        1            1      1   \n",
       "2      1          1          1                        1            1      1   \n",
       "3      1          1          1                        1            1      1   \n",
       "4      1          1          1                        1            1      1   \n",
       "\n",
       "   Nasal-Congestion  Runny-Nose  Diarrhea  Age_10-19  Age_20-24  Age_25-59  \\\n",
       "0                 1           1         1          0          0          0   \n",
       "1                 1           1         1          0          0          0   \n",
       "2                 1           1         1          0          0          0   \n",
       "3                 1           1         1          0          0          0   \n",
       "4                 1           1         1          0          0          0   \n",
       "\n",
       "   Age_60+  Gender_Male  Gender_Transgender  Country    Target  \n",
       "0        0            1                   0      0.0      mild  \n",
       "1        0            1                   0      0.0      mild  \n",
       "2        0            1                   0      0.0  moderate  \n",
       "3        0            1                   0      0.0  moderate  \n",
       "4        0            1                   0      0.0  moderate  "
      ]
     },
     "execution_count": 25,
     "metadata": {},
     "output_type": "execute_result"
    }
   ],
   "source": [
    "train_df = pd.read_csv('train_data.csv')\n",
    "train_df.head(5)"
   ]
  },
  {
   "cell_type": "code",
   "execution_count": 26,
   "id": "832932cc",
   "metadata": {},
   "outputs": [
    {
     "data": {
      "text/plain": [
       "(253440, 17)"
      ]
     },
     "execution_count": 26,
     "metadata": {},
     "output_type": "execute_result"
    }
   ],
   "source": [
    "train_df.shape"
   ]
  },
  {
   "cell_type": "code",
   "execution_count": 27,
   "id": "a0cd4a2e",
   "metadata": {},
   "outputs": [
    {
     "data": {
      "text/plain": [
       "severe      63455\n",
       "mild        63395\n",
       "moderate    63314\n",
       "none        63276\n",
       "Name: Target, dtype: int64"
      ]
     },
     "execution_count": 27,
     "metadata": {},
     "output_type": "execute_result"
    }
   ],
   "source": [
    "train_df.Target.value_counts()"
   ]
  },
  {
   "cell_type": "code",
   "execution_count": 42,
   "id": "4184d124",
   "metadata": {},
   "outputs": [],
   "source": [
    "from sklearn.model_selection import train_test_split\n",
    "from sklearn.metrics import confusion_matrix, classification_report, accuracy_score\n",
    "from sklearn.linear_model import LogisticRegression as LR\n",
    "from sklearn.tree import DecisionTreeClassifier as DT\n",
    "from sklearn.ensemble import RandomForestClassifier as RF\n",
    "from xgboost import XGBClassifier as XGB"
   ]
  },
  {
   "cell_type": "code",
   "execution_count": 29,
   "id": "11b9a0be",
   "metadata": {},
   "outputs": [],
   "source": [
    "X_train, X_test, y_train, y_test = train_test_split(train_df.drop(columns='Target'), \n",
    "                                                     train_df.Target, test_size=0.2)"
   ]
  },
  {
   "cell_type": "code",
   "execution_count": 30,
   "id": "e34a0210",
   "metadata": {},
   "outputs": [
    {
     "name": "stdout",
     "output_type": "stream",
     "text": [
      "[[3422 2141 2938 4176]\n",
      " [3507 2054 2931 4193]\n",
      " [3488 2112 2789 4228]\n",
      " [3503 2169 3012 4025]]\n",
      "              precision    recall  f1-score   support\n",
      "\n",
      "        mild       0.25      0.27      0.26     12677\n",
      "    moderate       0.24      0.16      0.19     12685\n",
      "        none       0.24      0.22      0.23     12617\n",
      "      severe       0.24      0.32      0.27     12709\n",
      "\n",
      "    accuracy                           0.24     50688\n",
      "   macro avg       0.24      0.24      0.24     50688\n",
      "weighted avg       0.24      0.24      0.24     50688\n",
      "\n"
     ]
    }
   ],
   "source": [
    "model_lr = LR().fit(X_train, y_train)\n",
    "predictions = model_lr.predict(X_test)\n",
    "print(confusion_matrix(y_test, predictions))\n",
    "print(classification_report(y_test, predictions))"
   ]
  },
  {
   "cell_type": "code",
   "execution_count": 31,
   "id": "13b475ca",
   "metadata": {},
   "outputs": [
    {
     "name": "stdout",
     "output_type": "stream",
     "text": [
      "[[3422 2141 2938 4176]\n",
      " [3507 2054 2931 4193]\n",
      " [3488 2112 2789 4228]\n",
      " [3503 2169 3012 4025]]\n",
      "              precision    recall  f1-score   support\n",
      "\n",
      "        mild       0.25      0.27      0.26     12677\n",
      "    moderate       0.24      0.16      0.19     12685\n",
      "        none       0.24      0.22      0.23     12617\n",
      "      severe       0.24      0.32      0.27     12709\n",
      "\n",
      "    accuracy                           0.24     50688\n",
      "   macro avg       0.24      0.24      0.24     50688\n",
      "weighted avg       0.24      0.24      0.24     50688\n",
      "\n"
     ]
    }
   ],
   "source": [
    "model_dt = DT().fit(X_train, y_train)\n",
    "predictions = model_lr.predict(X_test)\n",
    "print(confusion_matrix(y_test, predictions))\n",
    "print(classification_report(y_test, predictions))"
   ]
  },
  {
   "cell_type": "code",
   "execution_count": 32,
   "id": "c86a1cfa",
   "metadata": {},
   "outputs": [
    {
     "name": "stdout",
     "output_type": "stream",
     "text": [
      "[[3422 2141 2938 4176]\n",
      " [3507 2054 2931 4193]\n",
      " [3488 2112 2789 4228]\n",
      " [3503 2169 3012 4025]]\n",
      "              precision    recall  f1-score   support\n",
      "\n",
      "        mild       0.25      0.27      0.26     12677\n",
      "    moderate       0.24      0.16      0.19     12685\n",
      "        none       0.24      0.22      0.23     12617\n",
      "      severe       0.24      0.32      0.27     12709\n",
      "\n",
      "    accuracy                           0.24     50688\n",
      "   macro avg       0.24      0.24      0.24     50688\n",
      "weighted avg       0.24      0.24      0.24     50688\n",
      "\n"
     ]
    }
   ],
   "source": [
    "model_rf = RF().fit(X_train, y_train)\n",
    "predictions = model_lr.predict(X_test)\n",
    "print(confusion_matrix(y_test, predictions))\n",
    "print(classification_report(y_test, predictions))"
   ]
  },
  {
   "cell_type": "code",
   "execution_count": 33,
   "id": "1c38b714",
   "metadata": {},
   "outputs": [
    {
     "name": "stderr",
     "output_type": "stream",
     "text": [
      "C:\\Users\\shabisht\\Anaconda3\\lib\\site-packages\\xgboost\\sklearn.py:888: UserWarning: The use of label encoder in XGBClassifier is deprecated and will be removed in a future release. To remove this warning, do the following: 1) Pass option use_label_encoder=False when constructing XGBClassifier object; and 2) Encode your labels (y) as integers starting with 0, i.e. 0, 1, 2, ..., [num_class - 1].\n",
      "  warnings.warn(label_encoder_deprecation_msg, UserWarning)\n"
     ]
    },
    {
     "name": "stdout",
     "output_type": "stream",
     "text": [
      "[22:37:35] WARNING: ..\\src\\learner.cc:1061: Starting in XGBoost 1.3.0, the default evaluation metric used with the objective 'multi:softprob' was changed from 'merror' to 'mlogloss'. Explicitly set eval_metric if you'd like to restore the old behavior.\n",
      "[[3422 2141 2938 4176]\n",
      " [3507 2054 2931 4193]\n",
      " [3488 2112 2789 4228]\n",
      " [3503 2169 3012 4025]]\n",
      "              precision    recall  f1-score   support\n",
      "\n",
      "        mild       0.25      0.27      0.26     12677\n",
      "    moderate       0.24      0.16      0.19     12685\n",
      "        none       0.24      0.22      0.23     12617\n",
      "      severe       0.24      0.32      0.27     12709\n",
      "\n",
      "    accuracy                           0.24     50688\n",
      "   macro avg       0.24      0.24      0.24     50688\n",
      "weighted avg       0.24      0.24      0.24     50688\n",
      "\n"
     ]
    }
   ],
   "source": [
    "model_xgb = XGB().fit(X_train, y_train)\n",
    "predictions = model_lr.predict(X_test)\n",
    "print(confusion_matrix(y_test, predictions))\n",
    "print(classification_report(y_test, predictions))"
   ]
  },
  {
   "cell_type": "code",
   "execution_count": 40,
   "id": "8626df96",
   "metadata": {},
   "outputs": [
    {
     "data": {
      "text/html": [
       "<div>\n",
       "<style scoped>\n",
       "    .dataframe tbody tr th:only-of-type {\n",
       "        vertical-align: middle;\n",
       "    }\n",
       "\n",
       "    .dataframe tbody tr th {\n",
       "        vertical-align: top;\n",
       "    }\n",
       "\n",
       "    .dataframe thead th {\n",
       "        text-align: right;\n",
       "    }\n",
       "</style>\n",
       "<table border=\"1\" class=\"dataframe\">\n",
       "  <thead>\n",
       "    <tr style=\"text-align: right;\">\n",
       "      <th></th>\n",
       "      <th>Fever</th>\n",
       "      <th>Tiredness</th>\n",
       "      <th>Dry-Cough</th>\n",
       "      <th>Difficulty-in-Breathing</th>\n",
       "      <th>Sore-Throat</th>\n",
       "      <th>Pains</th>\n",
       "      <th>Nasal-Congestion</th>\n",
       "      <th>Runny-Nose</th>\n",
       "      <th>Diarrhea</th>\n",
       "      <th>Age_10-19</th>\n",
       "      <th>Age_20-24</th>\n",
       "      <th>Age_25-59</th>\n",
       "      <th>Age_60+</th>\n",
       "      <th>Gender_Male</th>\n",
       "      <th>Gender_Transgender</th>\n",
       "      <th>Country</th>\n",
       "      <th>Target</th>\n",
       "    </tr>\n",
       "  </thead>\n",
       "  <tbody>\n",
       "    <tr>\n",
       "      <th>0</th>\n",
       "      <td>0</td>\n",
       "      <td>1</td>\n",
       "      <td>1</td>\n",
       "      <td>1</td>\n",
       "      <td>1</td>\n",
       "      <td>1</td>\n",
       "      <td>1</td>\n",
       "      <td>1</td>\n",
       "      <td>1</td>\n",
       "      <td>1</td>\n",
       "      <td>0</td>\n",
       "      <td>0</td>\n",
       "      <td>0</td>\n",
       "      <td>1</td>\n",
       "      <td>0</td>\n",
       "      <td>0.000000</td>\n",
       "      <td>mild</td>\n",
       "    </tr>\n",
       "    <tr>\n",
       "      <th>1</th>\n",
       "      <td>0</td>\n",
       "      <td>0</td>\n",
       "      <td>0</td>\n",
       "      <td>1</td>\n",
       "      <td>0</td>\n",
       "      <td>1</td>\n",
       "      <td>1</td>\n",
       "      <td>1</td>\n",
       "      <td>0</td>\n",
       "      <td>1</td>\n",
       "      <td>0</td>\n",
       "      <td>0</td>\n",
       "      <td>0</td>\n",
       "      <td>1</td>\n",
       "      <td>0</td>\n",
       "      <td>0.222222</td>\n",
       "      <td>none</td>\n",
       "    </tr>\n",
       "    <tr>\n",
       "      <th>2</th>\n",
       "      <td>0</td>\n",
       "      <td>0</td>\n",
       "      <td>0</td>\n",
       "      <td>1</td>\n",
       "      <td>0</td>\n",
       "      <td>0</td>\n",
       "      <td>0</td>\n",
       "      <td>0</td>\n",
       "      <td>1</td>\n",
       "      <td>1</td>\n",
       "      <td>0</td>\n",
       "      <td>0</td>\n",
       "      <td>0</td>\n",
       "      <td>1</td>\n",
       "      <td>0</td>\n",
       "      <td>0.555556</td>\n",
       "      <td>severe</td>\n",
       "    </tr>\n",
       "    <tr>\n",
       "      <th>3</th>\n",
       "      <td>1</td>\n",
       "      <td>1</td>\n",
       "      <td>1</td>\n",
       "      <td>1</td>\n",
       "      <td>1</td>\n",
       "      <td>0</td>\n",
       "      <td>1</td>\n",
       "      <td>1</td>\n",
       "      <td>0</td>\n",
       "      <td>0</td>\n",
       "      <td>1</td>\n",
       "      <td>0</td>\n",
       "      <td>0</td>\n",
       "      <td>1</td>\n",
       "      <td>0</td>\n",
       "      <td>0.444444</td>\n",
       "      <td>severe</td>\n",
       "    </tr>\n",
       "    <tr>\n",
       "      <th>4</th>\n",
       "      <td>1</td>\n",
       "      <td>1</td>\n",
       "      <td>1</td>\n",
       "      <td>0</td>\n",
       "      <td>0</td>\n",
       "      <td>0</td>\n",
       "      <td>0</td>\n",
       "      <td>0</td>\n",
       "      <td>1</td>\n",
       "      <td>0</td>\n",
       "      <td>0</td>\n",
       "      <td>1</td>\n",
       "      <td>0</td>\n",
       "      <td>1</td>\n",
       "      <td>0</td>\n",
       "      <td>0.222222</td>\n",
       "      <td>none</td>\n",
       "    </tr>\n",
       "  </tbody>\n",
       "</table>\n",
       "</div>"
      ],
      "text/plain": [
       "   Fever  Tiredness  Dry-Cough  Difficulty-in-Breathing  Sore-Throat  Pains  \\\n",
       "0      0          1          1                        1            1      1   \n",
       "1      0          0          0                        1            0      1   \n",
       "2      0          0          0                        1            0      0   \n",
       "3      1          1          1                        1            1      0   \n",
       "4      1          1          1                        0            0      0   \n",
       "\n",
       "   Nasal-Congestion  Runny-Nose  Diarrhea  Age_10-19  Age_20-24  Age_25-59  \\\n",
       "0                 1           1         1          1          0          0   \n",
       "1                 1           1         0          1          0          0   \n",
       "2                 0           0         1          1          0          0   \n",
       "3                 1           1         0          0          1          0   \n",
       "4                 0           0         1          0          0          1   \n",
       "\n",
       "   Age_60+  Gender_Male  Gender_Transgender   Country  Target  \n",
       "0        0            1                   0  0.000000    mild  \n",
       "1        0            1                   0  0.222222    none  \n",
       "2        0            1                   0  0.555556  severe  \n",
       "3        0            1                   0  0.444444  severe  \n",
       "4        0            1                   0  0.222222    none  "
      ]
     },
     "execution_count": 40,
     "metadata": {},
     "output_type": "execute_result"
    }
   ],
   "source": [
    "test_df = pd.read_csv('test_data.csv')\n",
    "test_df.head(5)"
   ]
  },
  {
   "cell_type": "code",
   "execution_count": 43,
   "id": "0956e222",
   "metadata": {},
   "outputs": [
    {
     "data": {
      "text/plain": [
       "0.2484375"
      ]
     },
     "execution_count": 43,
     "metadata": {},
     "output_type": "execute_result"
    }
   ],
   "source": [
    "pred = model_lr.predict(test_df.drop(columns='Target'))\n",
    "pred\n",
    "\n",
    "accuracy_score(test_df.Target, pred)"
   ]
  },
  {
   "cell_type": "code",
   "execution_count": 44,
   "id": "df5d581d",
   "metadata": {},
   "outputs": [
    {
     "data": {
      "text/plain": [
       "0.07051767676767677"
      ]
     },
     "execution_count": 44,
     "metadata": {},
     "output_type": "execute_result"
    }
   ],
   "source": [
    "pred = model_dt.predict(test_df.drop(columns='Target'))\n",
    "pred\n",
    "\n",
    "accuracy_score(test_df.Target, pred)"
   ]
  },
  {
   "cell_type": "code",
   "execution_count": 45,
   "id": "d88f4425",
   "metadata": {},
   "outputs": [
    {
     "data": {
      "text/plain": [
       "0.07023358585858586"
      ]
     },
     "execution_count": 45,
     "metadata": {},
     "output_type": "execute_result"
    }
   ],
   "source": [
    "pred = model_rf.predict(test_df.drop(columns='Target'))\n",
    "pred\n",
    "\n",
    "accuracy_score(test_df.Target, pred)"
   ]
  },
  {
   "cell_type": "code",
   "execution_count": 46,
   "id": "a0d88bab",
   "metadata": {},
   "outputs": [
    {
     "data": {
      "text/plain": [
       "0.18166035353535354"
      ]
     },
     "execution_count": 46,
     "metadata": {},
     "output_type": "execute_result"
    }
   ],
   "source": [
    "pred = model_xgb.predict(test_df.drop(columns='Target'))\n",
    "pred\n",
    "\n",
    "accuracy_score(test_df.Target, pred)"
   ]
  }
 ],
 "metadata": {
  "kernelspec": {
   "display_name": "Python 3",
   "language": "python",
   "name": "python3"
  },
  "language_info": {
   "codemirror_mode": {
    "name": "ipython",
    "version": 3
   },
   "file_extension": ".py",
   "mimetype": "text/x-python",
   "name": "python",
   "nbconvert_exporter": "python",
   "pygments_lexer": "ipython3",
   "version": "3.8.5"
  }
 },
 "nbformat": 4,
 "nbformat_minor": 5
}
