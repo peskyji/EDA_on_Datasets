{
 "cells": [
  {
   "cell_type": "code",
   "execution_count": 2,
   "id": "ec9a56a3",
   "metadata": {},
   "outputs": [],
   "source": [
    "import pandas as pd"
   ]
  },
  {
   "cell_type": "code",
   "execution_count": 3,
   "id": "5eccddee",
   "metadata": {},
   "outputs": [
    {
     "data": {
      "text/html": [
       "<div>\n",
       "<style scoped>\n",
       "    .dataframe tbody tr th:only-of-type {\n",
       "        vertical-align: middle;\n",
       "    }\n",
       "\n",
       "    .dataframe tbody tr th {\n",
       "        vertical-align: top;\n",
       "    }\n",
       "\n",
       "    .dataframe thead th {\n",
       "        text-align: right;\n",
       "    }\n",
       "</style>\n",
       "<table border=\"1\" class=\"dataframe\">\n",
       "  <thead>\n",
       "    <tr style=\"text-align: right;\">\n",
       "      <th></th>\n",
       "      <th>Fever</th>\n",
       "      <th>Tiredness</th>\n",
       "      <th>Dry-Cough</th>\n",
       "      <th>Difficulty-in-Breathing</th>\n",
       "      <th>Sore-Throat</th>\n",
       "      <th>Pains</th>\n",
       "      <th>Nasal-Congestion</th>\n",
       "      <th>Runny-Nose</th>\n",
       "      <th>Diarrhea</th>\n",
       "      <th>Age_10-19</th>\n",
       "      <th>Age_20-24</th>\n",
       "      <th>Age_25-59</th>\n",
       "      <th>Age_60+</th>\n",
       "      <th>Gender_Male</th>\n",
       "      <th>Gender_Transgender</th>\n",
       "      <th>Country</th>\n",
       "      <th>Target</th>\n",
       "    </tr>\n",
       "  </thead>\n",
       "  <tbody>\n",
       "    <tr>\n",
       "      <th>0</th>\n",
       "      <td>1</td>\n",
       "      <td>1</td>\n",
       "      <td>1</td>\n",
       "      <td>1</td>\n",
       "      <td>1</td>\n",
       "      <td>1</td>\n",
       "      <td>1</td>\n",
       "      <td>1</td>\n",
       "      <td>1</td>\n",
       "      <td>0</td>\n",
       "      <td>0</td>\n",
       "      <td>0</td>\n",
       "      <td>0</td>\n",
       "      <td>1</td>\n",
       "      <td>0</td>\n",
       "      <td>0.0</td>\n",
       "      <td>mild</td>\n",
       "    </tr>\n",
       "    <tr>\n",
       "      <th>1</th>\n",
       "      <td>1</td>\n",
       "      <td>1</td>\n",
       "      <td>1</td>\n",
       "      <td>1</td>\n",
       "      <td>1</td>\n",
       "      <td>1</td>\n",
       "      <td>1</td>\n",
       "      <td>1</td>\n",
       "      <td>1</td>\n",
       "      <td>0</td>\n",
       "      <td>0</td>\n",
       "      <td>0</td>\n",
       "      <td>0</td>\n",
       "      <td>1</td>\n",
       "      <td>0</td>\n",
       "      <td>0.0</td>\n",
       "      <td>mild</td>\n",
       "    </tr>\n",
       "    <tr>\n",
       "      <th>2</th>\n",
       "      <td>1</td>\n",
       "      <td>1</td>\n",
       "      <td>1</td>\n",
       "      <td>1</td>\n",
       "      <td>1</td>\n",
       "      <td>1</td>\n",
       "      <td>1</td>\n",
       "      <td>1</td>\n",
       "      <td>1</td>\n",
       "      <td>0</td>\n",
       "      <td>0</td>\n",
       "      <td>0</td>\n",
       "      <td>0</td>\n",
       "      <td>1</td>\n",
       "      <td>0</td>\n",
       "      <td>0.0</td>\n",
       "      <td>moderate</td>\n",
       "    </tr>\n",
       "    <tr>\n",
       "      <th>3</th>\n",
       "      <td>1</td>\n",
       "      <td>1</td>\n",
       "      <td>1</td>\n",
       "      <td>1</td>\n",
       "      <td>1</td>\n",
       "      <td>1</td>\n",
       "      <td>1</td>\n",
       "      <td>1</td>\n",
       "      <td>1</td>\n",
       "      <td>0</td>\n",
       "      <td>0</td>\n",
       "      <td>0</td>\n",
       "      <td>0</td>\n",
       "      <td>1</td>\n",
       "      <td>0</td>\n",
       "      <td>0.0</td>\n",
       "      <td>moderate</td>\n",
       "    </tr>\n",
       "    <tr>\n",
       "      <th>4</th>\n",
       "      <td>1</td>\n",
       "      <td>1</td>\n",
       "      <td>1</td>\n",
       "      <td>1</td>\n",
       "      <td>1</td>\n",
       "      <td>1</td>\n",
       "      <td>1</td>\n",
       "      <td>1</td>\n",
       "      <td>1</td>\n",
       "      <td>0</td>\n",
       "      <td>0</td>\n",
       "      <td>0</td>\n",
       "      <td>0</td>\n",
       "      <td>1</td>\n",
       "      <td>0</td>\n",
       "      <td>0.0</td>\n",
       "      <td>moderate</td>\n",
       "    </tr>\n",
       "  </tbody>\n",
       "</table>\n",
       "</div>"
      ],
      "text/plain": [
       "   Fever  Tiredness  Dry-Cough  Difficulty-in-Breathing  Sore-Throat  Pains  \\\n",
       "0      1          1          1                        1            1      1   \n",
       "1      1          1          1                        1            1      1   \n",
       "2      1          1          1                        1            1      1   \n",
       "3      1          1          1                        1            1      1   \n",
       "4      1          1          1                        1            1      1   \n",
       "\n",
       "   Nasal-Congestion  Runny-Nose  Diarrhea  Age_10-19  Age_20-24  Age_25-59  \\\n",
       "0                 1           1         1          0          0          0   \n",
       "1                 1           1         1          0          0          0   \n",
       "2                 1           1         1          0          0          0   \n",
       "3                 1           1         1          0          0          0   \n",
       "4                 1           1         1          0          0          0   \n",
       "\n",
       "   Age_60+  Gender_Male  Gender_Transgender  Country    Target  \n",
       "0        0            1                   0      0.0      mild  \n",
       "1        0            1                   0      0.0      mild  \n",
       "2        0            1                   0      0.0  moderate  \n",
       "3        0            1                   0      0.0  moderate  \n",
       "4        0            1                   0      0.0  moderate  "
      ]
     },
     "execution_count": 3,
     "metadata": {},
     "output_type": "execute_result"
    }
   ],
   "source": [
    "train_df = pd.read_csv('train_data.csv')\n",
    "train_df.head(5)"
   ]
  },
  {
   "cell_type": "code",
   "execution_count": 4,
   "id": "832932cc",
   "metadata": {},
   "outputs": [
    {
     "data": {
      "text/plain": [
       "(253440, 17)"
      ]
     },
     "execution_count": 4,
     "metadata": {},
     "output_type": "execute_result"
    }
   ],
   "source": [
    "train_df.shape"
   ]
  },
  {
   "cell_type": "code",
   "execution_count": 5,
   "id": "a0cd4a2e",
   "metadata": {},
   "outputs": [
    {
     "data": {
      "text/plain": [
       "severe      63455\n",
       "mild        63395\n",
       "moderate    63314\n",
       "none        63276\n",
       "Name: Target, dtype: int64"
      ]
     },
     "execution_count": 5,
     "metadata": {},
     "output_type": "execute_result"
    }
   ],
   "source": [
    "train_df.Target.value_counts()"
   ]
  },
  {
   "cell_type": "code",
   "execution_count": 6,
   "id": "f30ddcbd",
   "metadata": {},
   "outputs": [
    {
     "data": {
      "text/html": [
       "<div>\n",
       "<style scoped>\n",
       "    .dataframe tbody tr th:only-of-type {\n",
       "        vertical-align: middle;\n",
       "    }\n",
       "\n",
       "    .dataframe tbody tr th {\n",
       "        vertical-align: top;\n",
       "    }\n",
       "\n",
       "    .dataframe thead th {\n",
       "        text-align: right;\n",
       "    }\n",
       "</style>\n",
       "<table border=\"1\" class=\"dataframe\">\n",
       "  <thead>\n",
       "    <tr style=\"text-align: right;\">\n",
       "      <th></th>\n",
       "      <th>Fever</th>\n",
       "      <th>Tiredness</th>\n",
       "      <th>Dry-Cough</th>\n",
       "      <th>Difficulty-in-Breathing</th>\n",
       "      <th>Sore-Throat</th>\n",
       "      <th>Pains</th>\n",
       "      <th>Nasal-Congestion</th>\n",
       "      <th>Runny-Nose</th>\n",
       "      <th>Diarrhea</th>\n",
       "      <th>Age_10-19</th>\n",
       "      <th>Age_20-24</th>\n",
       "      <th>Age_25-59</th>\n",
       "      <th>Age_60+</th>\n",
       "      <th>Gender_Male</th>\n",
       "      <th>Gender_Transgender</th>\n",
       "      <th>Country</th>\n",
       "      <th>Target</th>\n",
       "    </tr>\n",
       "  </thead>\n",
       "  <tbody>\n",
       "    <tr>\n",
       "      <th>0</th>\n",
       "      <td>0</td>\n",
       "      <td>1</td>\n",
       "      <td>1</td>\n",
       "      <td>1</td>\n",
       "      <td>1</td>\n",
       "      <td>1</td>\n",
       "      <td>1</td>\n",
       "      <td>1</td>\n",
       "      <td>1</td>\n",
       "      <td>1</td>\n",
       "      <td>0</td>\n",
       "      <td>0</td>\n",
       "      <td>0</td>\n",
       "      <td>1</td>\n",
       "      <td>0</td>\n",
       "      <td>0.000000</td>\n",
       "      <td>mild</td>\n",
       "    </tr>\n",
       "    <tr>\n",
       "      <th>1</th>\n",
       "      <td>0</td>\n",
       "      <td>0</td>\n",
       "      <td>0</td>\n",
       "      <td>1</td>\n",
       "      <td>0</td>\n",
       "      <td>1</td>\n",
       "      <td>1</td>\n",
       "      <td>1</td>\n",
       "      <td>0</td>\n",
       "      <td>1</td>\n",
       "      <td>0</td>\n",
       "      <td>0</td>\n",
       "      <td>0</td>\n",
       "      <td>1</td>\n",
       "      <td>0</td>\n",
       "      <td>0.222222</td>\n",
       "      <td>none</td>\n",
       "    </tr>\n",
       "    <tr>\n",
       "      <th>2</th>\n",
       "      <td>0</td>\n",
       "      <td>0</td>\n",
       "      <td>0</td>\n",
       "      <td>1</td>\n",
       "      <td>0</td>\n",
       "      <td>0</td>\n",
       "      <td>0</td>\n",
       "      <td>0</td>\n",
       "      <td>1</td>\n",
       "      <td>1</td>\n",
       "      <td>0</td>\n",
       "      <td>0</td>\n",
       "      <td>0</td>\n",
       "      <td>1</td>\n",
       "      <td>0</td>\n",
       "      <td>0.555556</td>\n",
       "      <td>severe</td>\n",
       "    </tr>\n",
       "    <tr>\n",
       "      <th>3</th>\n",
       "      <td>1</td>\n",
       "      <td>1</td>\n",
       "      <td>1</td>\n",
       "      <td>1</td>\n",
       "      <td>1</td>\n",
       "      <td>0</td>\n",
       "      <td>1</td>\n",
       "      <td>1</td>\n",
       "      <td>0</td>\n",
       "      <td>0</td>\n",
       "      <td>1</td>\n",
       "      <td>0</td>\n",
       "      <td>0</td>\n",
       "      <td>1</td>\n",
       "      <td>0</td>\n",
       "      <td>0.444444</td>\n",
       "      <td>severe</td>\n",
       "    </tr>\n",
       "    <tr>\n",
       "      <th>4</th>\n",
       "      <td>1</td>\n",
       "      <td>1</td>\n",
       "      <td>1</td>\n",
       "      <td>0</td>\n",
       "      <td>0</td>\n",
       "      <td>0</td>\n",
       "      <td>0</td>\n",
       "      <td>0</td>\n",
       "      <td>1</td>\n",
       "      <td>0</td>\n",
       "      <td>0</td>\n",
       "      <td>1</td>\n",
       "      <td>0</td>\n",
       "      <td>1</td>\n",
       "      <td>0</td>\n",
       "      <td>0.222222</td>\n",
       "      <td>none</td>\n",
       "    </tr>\n",
       "  </tbody>\n",
       "</table>\n",
       "</div>"
      ],
      "text/plain": [
       "   Fever  Tiredness  Dry-Cough  Difficulty-in-Breathing  Sore-Throat  Pains  \\\n",
       "0      0          1          1                        1            1      1   \n",
       "1      0          0          0                        1            0      1   \n",
       "2      0          0          0                        1            0      0   \n",
       "3      1          1          1                        1            1      0   \n",
       "4      1          1          1                        0            0      0   \n",
       "\n",
       "   Nasal-Congestion  Runny-Nose  Diarrhea  Age_10-19  Age_20-24  Age_25-59  \\\n",
       "0                 1           1         1          1          0          0   \n",
       "1                 1           1         0          1          0          0   \n",
       "2                 0           0         1          1          0          0   \n",
       "3                 1           1         0          0          1          0   \n",
       "4                 0           0         1          0          0          1   \n",
       "\n",
       "   Age_60+  Gender_Male  Gender_Transgender   Country  Target  \n",
       "0        0            1                   0  0.000000    mild  \n",
       "1        0            1                   0  0.222222    none  \n",
       "2        0            1                   0  0.555556  severe  \n",
       "3        0            1                   0  0.444444  severe  \n",
       "4        0            1                   0  0.222222    none  "
      ]
     },
     "execution_count": 6,
     "metadata": {},
     "output_type": "execute_result"
    }
   ],
   "source": [
    "test_df = pd.read_csv('test_data.csv')\n",
    "test_df.head(5)"
   ]
  },
  {
   "cell_type": "code",
   "execution_count": 7,
   "id": "41526e80",
   "metadata": {},
   "outputs": [],
   "source": [
    "train_df.Target.replace({'mild':'risk','moderate':'risk','severe':'risk'}, inplace=True)"
   ]
  },
  {
   "cell_type": "code",
   "execution_count": 8,
   "id": "8678a784",
   "metadata": {},
   "outputs": [],
   "source": [
    "test_df.Target.replace({'mild':'risk','moderate':'risk','severe':'risk'}, inplace=True)"
   ]
  },
  {
   "cell_type": "code",
   "execution_count": 9,
   "id": "7ed3c5e0",
   "metadata": {},
   "outputs": [
    {
     "data": {
      "text/plain": [
       "risk    190164\n",
       "none     63276\n",
       "Name: Target, dtype: int64"
      ]
     },
     "execution_count": 9,
     "metadata": {},
     "output_type": "execute_result"
    }
   ],
   "source": [
    "train_df.Target.value_counts(dropna=False)"
   ]
  },
  {
   "cell_type": "code",
   "execution_count": 10,
   "id": "4e90cccd",
   "metadata": {},
   "outputs": [
    {
     "data": {
      "text/plain": [
       "risk    47436\n",
       "none    15924\n",
       "Name: Target, dtype: int64"
      ]
     },
     "execution_count": 10,
     "metadata": {},
     "output_type": "execute_result"
    }
   ],
   "source": [
    "test_df.Target.value_counts(dropna=False)"
   ]
  },
  {
   "cell_type": "code",
   "execution_count": 11,
   "id": "1349e06c",
   "metadata": {},
   "outputs": [],
   "source": [
    "from imblearn.over_sampling import SMOTE\n",
    "Xt, yt = SMOTE().fit_resample(train_df.drop('Target',axis=1), train_df.Target)"
   ]
  },
  {
   "cell_type": "code",
   "execution_count": 12,
   "id": "a561311b",
   "metadata": {},
   "outputs": [
    {
     "data": {
      "text/plain": [
       "none    190164\n",
       "risk    190164\n",
       "Name: Target, dtype: int64"
      ]
     },
     "execution_count": 12,
     "metadata": {},
     "output_type": "execute_result"
    }
   ],
   "source": [
    "yt.value_counts()"
   ]
  },
  {
   "cell_type": "code",
   "execution_count": 13,
   "id": "8af926d7",
   "metadata": {},
   "outputs": [
    {
     "data": {
      "text/html": [
       "<div>\n",
       "<style scoped>\n",
       "    .dataframe tbody tr th:only-of-type {\n",
       "        vertical-align: middle;\n",
       "    }\n",
       "\n",
       "    .dataframe tbody tr th {\n",
       "        vertical-align: top;\n",
       "    }\n",
       "\n",
       "    .dataframe thead th {\n",
       "        text-align: right;\n",
       "    }\n",
       "</style>\n",
       "<table border=\"1\" class=\"dataframe\">\n",
       "  <thead>\n",
       "    <tr style=\"text-align: right;\">\n",
       "      <th></th>\n",
       "      <th>Fever</th>\n",
       "      <th>Tiredness</th>\n",
       "      <th>Dry-Cough</th>\n",
       "      <th>Difficulty-in-Breathing</th>\n",
       "      <th>Sore-Throat</th>\n",
       "      <th>Pains</th>\n",
       "      <th>Nasal-Congestion</th>\n",
       "      <th>Runny-Nose</th>\n",
       "      <th>Diarrhea</th>\n",
       "      <th>Age_10-19</th>\n",
       "      <th>Age_20-24</th>\n",
       "      <th>Age_25-59</th>\n",
       "      <th>Age_60+</th>\n",
       "      <th>Gender_Male</th>\n",
       "      <th>Gender_Transgender</th>\n",
       "      <th>Country</th>\n",
       "      <th>Target</th>\n",
       "    </tr>\n",
       "  </thead>\n",
       "  <tbody>\n",
       "    <tr>\n",
       "      <th>0</th>\n",
       "      <td>1</td>\n",
       "      <td>1</td>\n",
       "      <td>1</td>\n",
       "      <td>1</td>\n",
       "      <td>1</td>\n",
       "      <td>1</td>\n",
       "      <td>1</td>\n",
       "      <td>1</td>\n",
       "      <td>1</td>\n",
       "      <td>0</td>\n",
       "      <td>0</td>\n",
       "      <td>0</td>\n",
       "      <td>0</td>\n",
       "      <td>1</td>\n",
       "      <td>0</td>\n",
       "      <td>0.0</td>\n",
       "      <td>risk</td>\n",
       "    </tr>\n",
       "    <tr>\n",
       "      <th>1</th>\n",
       "      <td>1</td>\n",
       "      <td>1</td>\n",
       "      <td>1</td>\n",
       "      <td>1</td>\n",
       "      <td>1</td>\n",
       "      <td>1</td>\n",
       "      <td>1</td>\n",
       "      <td>1</td>\n",
       "      <td>1</td>\n",
       "      <td>0</td>\n",
       "      <td>0</td>\n",
       "      <td>0</td>\n",
       "      <td>0</td>\n",
       "      <td>1</td>\n",
       "      <td>0</td>\n",
       "      <td>0.0</td>\n",
       "      <td>risk</td>\n",
       "    </tr>\n",
       "  </tbody>\n",
       "</table>\n",
       "</div>"
      ],
      "text/plain": [
       "   Fever  Tiredness  Dry-Cough  Difficulty-in-Breathing  Sore-Throat  Pains  \\\n",
       "0      1          1          1                        1            1      1   \n",
       "1      1          1          1                        1            1      1   \n",
       "\n",
       "   Nasal-Congestion  Runny-Nose  Diarrhea  Age_10-19  Age_20-24  Age_25-59  \\\n",
       "0                 1           1         1          0          0          0   \n",
       "1                 1           1         1          0          0          0   \n",
       "\n",
       "   Age_60+  Gender_Male  Gender_Transgender  Country Target  \n",
       "0        0            1                   0      0.0   risk  \n",
       "1        0            1                   0      0.0   risk  "
      ]
     },
     "execution_count": 13,
     "metadata": {},
     "output_type": "execute_result"
    }
   ],
   "source": [
    "smote_data = pd.concat([Xt, yt], axis=1)\n",
    "smote_data.head(2)"
   ]
  },
  {
   "cell_type": "code",
   "execution_count": 14,
   "id": "4184d124",
   "metadata": {},
   "outputs": [],
   "source": [
    "from sklearn.model_selection import train_test_split\n",
    "from sklearn.metrics import confusion_matrix, classification_report, accuracy_score, f1_score\n",
    "from sklearn.linear_model import LogisticRegression as LR\n",
    "from sklearn.tree import DecisionTreeClassifier as DT\n",
    "from sklearn.ensemble import RandomForestClassifier as RF\n",
    "from xgboost import XGBClassifier as XGB\n",
    "from sklearn.naive_bayes import GaussianNB as GNB\n",
    "from sklearn.ensemble import GradientBoostingClassifier as GBC"
   ]
  },
  {
   "cell_type": "code",
   "execution_count": 15,
   "id": "11b9a0be",
   "metadata": {},
   "outputs": [],
   "source": [
    "X_train, X_test, y_train, y_test = train_test_split(smote_data.drop(columns='Target'), \n",
    "                                                     smote_data.Target, test_size=0.2,\n",
    "                                                    random_state=101)"
   ]
  },
  {
   "cell_type": "code",
   "execution_count": 16,
   "id": "e34a0210",
   "metadata": {},
   "outputs": [
    {
     "name": "stdout",
     "output_type": "stream",
     "text": [
      "[[17081 21114]\n",
      " [16951 20920]]\n",
      "              precision    recall  f1-score   support\n",
      "\n",
      "        none       0.50      0.45      0.47     38195\n",
      "        risk       0.50      0.55      0.52     37871\n",
      "\n",
      "    accuracy                           0.50     76066\n",
      "   macro avg       0.50      0.50      0.50     76066\n",
      "weighted avg       0.50      0.50      0.50     76066\n",
      "\n"
     ]
    }
   ],
   "source": [
    "model_lr = LR().fit(X_train, y_train)\n",
    "predictions = model_lr.predict(X_test)\n",
    "print(confusion_matrix(y_test, predictions))\n",
    "print(classification_report(y_test, predictions))"
   ]
  },
  {
   "cell_type": "code",
   "execution_count": 17,
   "id": "4ee93374",
   "metadata": {},
   "outputs": [
    {
     "name": "stdout",
     "output_type": "stream",
     "text": [
      "[[18501 19694]\n",
      " [18237 19634]]\n",
      "              precision    recall  f1-score   support\n",
      "\n",
      "        none       0.50      0.48      0.49     38195\n",
      "        risk       0.50      0.52      0.51     37871\n",
      "\n",
      "    accuracy                           0.50     76066\n",
      "   macro avg       0.50      0.50      0.50     76066\n",
      "weighted avg       0.50      0.50      0.50     76066\n",
      "\n"
     ]
    }
   ],
   "source": [
    "model_nb = GNB().fit(X_train, y_train)\n",
    "predictions = model_nb.predict(X_test)\n",
    "print(confusion_matrix(y_test, predictions))\n",
    "print(classification_report(y_test, predictions))"
   ]
  },
  {
   "cell_type": "code",
   "execution_count": 18,
   "id": "13b475ca",
   "metadata": {},
   "outputs": [
    {
     "name": "stdout",
     "output_type": "stream",
     "text": [
      "[[20864 17331]\n",
      " [ 9096 28775]]\n",
      "              precision    recall  f1-score   support\n",
      "\n",
      "        none       0.70      0.55      0.61     38195\n",
      "        risk       0.62      0.76      0.69     37871\n",
      "\n",
      "    accuracy                           0.65     76066\n",
      "   macro avg       0.66      0.65      0.65     76066\n",
      "weighted avg       0.66      0.65      0.65     76066\n",
      "\n"
     ]
    }
   ],
   "source": [
    "model_dt = DT().fit(X_train, y_train)\n",
    "predictions = model_dt.predict(X_test)\n",
    "print(confusion_matrix(y_test, predictions))\n",
    "print(classification_report(y_test, predictions))"
   ]
  },
  {
   "cell_type": "code",
   "execution_count": 19,
   "id": "c86a1cfa",
   "metadata": {},
   "outputs": [
    {
     "name": "stdout",
     "output_type": "stream",
     "text": [
      "[[17415 20780]\n",
      " [ 7177 30694]]\n",
      "              precision    recall  f1-score   support\n",
      "\n",
      "        none       0.71      0.46      0.55     38195\n",
      "        risk       0.60      0.81      0.69     37871\n",
      "\n",
      "    accuracy                           0.63     76066\n",
      "   macro avg       0.65      0.63      0.62     76066\n",
      "weighted avg       0.65      0.63      0.62     76066\n",
      "\n"
     ]
    }
   ],
   "source": [
    "model_rf = RF().fit(X_train, y_train)\n",
    "predictions = model_rf.predict(X_test)\n",
    "print(confusion_matrix(y_test, predictions))\n",
    "print(classification_report(y_test, predictions))"
   ]
  },
  {
   "cell_type": "code",
   "execution_count": 20,
   "id": "1c38b714",
   "metadata": {},
   "outputs": [
    {
     "name": "stderr",
     "output_type": "stream",
     "text": [
      "C:\\Users\\shabisht\\Anaconda3\\lib\\site-packages\\xgboost\\sklearn.py:888: UserWarning: The use of label encoder in XGBClassifier is deprecated and will be removed in a future release. To remove this warning, do the following: 1) Pass option use_label_encoder=False when constructing XGBClassifier object; and 2) Encode your labels (y) as integers starting with 0, i.e. 0, 1, 2, ..., [num_class - 1].\n",
      "  warnings.warn(label_encoder_deprecation_msg, UserWarning)\n"
     ]
    },
    {
     "name": "stdout",
     "output_type": "stream",
     "text": [
      "[11:30:40] WARNING: ..\\src\\learner.cc:1061: Starting in XGBoost 1.3.0, the default evaluation metric used with the objective 'binary:logistic' was changed from 'error' to 'logloss'. Explicitly set eval_metric if you'd like to restore the old behavior.\n",
      "[[17170 21025]\n",
      " [    9 37862]]\n",
      "              precision    recall  f1-score   support\n",
      "\n",
      "        none       1.00      0.45      0.62     38195\n",
      "        risk       0.64      1.00      0.78     37871\n",
      "\n",
      "    accuracy                           0.72     76066\n",
      "   macro avg       0.82      0.72      0.70     76066\n",
      "weighted avg       0.82      0.72      0.70     76066\n",
      "\n"
     ]
    }
   ],
   "source": [
    "model_xgb = XGB().fit(X_train, y_train)\n",
    "predictions = model_xgb.predict(X_test)\n",
    "print(confusion_matrix(y_test, predictions))\n",
    "print(classification_report(y_test, predictions))"
   ]
  },
  {
   "cell_type": "code",
   "execution_count": 21,
   "id": "9b863051",
   "metadata": {},
   "outputs": [
    {
     "name": "stdout",
     "output_type": "stream",
     "text": [
      "[[17166 21029]\n",
      " [    0 37871]]\n",
      "              precision    recall  f1-score   support\n",
      "\n",
      "        none       1.00      0.45      0.62     38195\n",
      "        risk       0.64      1.00      0.78     37871\n",
      "\n",
      "    accuracy                           0.72     76066\n",
      "   macro avg       0.82      0.72      0.70     76066\n",
      "weighted avg       0.82      0.72      0.70     76066\n",
      "\n"
     ]
    }
   ],
   "source": [
    "model_gbc = GBC().fit(X_train, y_train)\n",
    "predictions = model_gbc.predict(X_test)\n",
    "print(confusion_matrix(y_test, predictions))\n",
    "print(classification_report(y_test, predictions))"
   ]
  },
  {
   "cell_type": "markdown",
   "id": "39fa8a29",
   "metadata": {},
   "source": [
    "### Applying on actual Test Data set"
   ]
  },
  {
   "cell_type": "code",
   "execution_count": 28,
   "id": "0956e222",
   "metadata": {},
   "outputs": [
    {
     "name": "stdout",
     "output_type": "stream",
     "text": [
      "[0.63663424 0.31867683]\n"
     ]
    },
    {
     "data": {
      "text/plain": [
       "array([[26307, 21129],\n",
       "       [ 8901,  7023]], dtype=int64)"
      ]
     },
     "execution_count": 28,
     "metadata": {},
     "output_type": "execute_result"
    }
   ],
   "source": [
    "pred = model_lr.predict(test_df.drop(columns='Target'))\n",
    "\n",
    "print(f1_score(test_df.Target, pred, labels=['risk','none'], average=None))\n",
    "confusion_matrix(test_df.Target, pred, labels=['risk','none'])"
   ]
  },
  {
   "cell_type": "code",
   "execution_count": 29,
   "id": "df5d581d",
   "metadata": {},
   "outputs": [
    {
     "name": "stdout",
     "output_type": "stream",
     "text": [
      "[0.61557374 0.32970316]\n"
     ]
    },
    {
     "data": {
      "text/plain": [
       "array([[24787, 22649],\n",
       "       [ 8310,  7614]], dtype=int64)"
      ]
     },
     "execution_count": 29,
     "metadata": {},
     "output_type": "execute_result"
    }
   ],
   "source": [
    "pred = model_nb.predict(test_df.drop(columns='Target'))\n",
    "\n",
    "print(f1_score(test_df.Target, pred, labels=['risk','none'], average=None))\n",
    "confusion_matrix(test_df.Target, pred, labels=['risk','none'])"
   ]
  },
  {
   "cell_type": "code",
   "execution_count": 30,
   "id": "eca01a5f",
   "metadata": {},
   "outputs": [
    {
     "name": "stdout",
     "output_type": "stream",
     "text": [
      "[0.72623932 0.03554984]\n"
     ]
    },
    {
     "data": {
      "text/plain": [
       "array([[35841, 11595],\n",
       "       [15426,   498]], dtype=int64)"
      ]
     },
     "execution_count": 30,
     "metadata": {},
     "output_type": "execute_result"
    }
   ],
   "source": [
    "pred = model_dt.predict(test_df.drop(columns='Target'))\n",
    "\n",
    "print(f1_score(test_df.Target, pred, labels=['risk','none'], average=None))\n",
    "confusion_matrix(test_df.Target, pred, labels=['risk','none'])"
   ]
  },
  {
   "cell_type": "code",
   "execution_count": 31,
   "id": "8821e96f",
   "metadata": {},
   "outputs": [
    {
     "name": "stdout",
     "output_type": "stream",
     "text": [
      "[0.75502183 0.02576388]\n"
     ]
    },
    {
     "data": {
      "text/plain": [
       "array([[38226,  9210],\n",
       "       [15596,   328]], dtype=int64)"
      ]
     },
     "execution_count": 31,
     "metadata": {},
     "output_type": "execute_result"
    }
   ],
   "source": [
    "pred = model_rf.predict(test_df.drop(columns='Target'))\n",
    "\n",
    "print(f1_score(test_df.Target, pred, labels=['risk','none'], average=None))\n",
    "confusion_matrix(test_df.Target, pred, labels=['risk','none'])"
   ]
  },
  {
   "cell_type": "code",
   "execution_count": 32,
   "id": "9de34ece",
   "metadata": {},
   "outputs": [
    {
     "name": "stdout",
     "output_type": "stream",
     "text": [
      "[0.85608023 0.        ]\n"
     ]
    },
    {
     "data": {
      "text/plain": [
       "array([[47417,    19],\n",
       "       [15924,     0]], dtype=int64)"
      ]
     },
     "execution_count": 32,
     "metadata": {},
     "output_type": "execute_result"
    }
   ],
   "source": [
    "pred = model_xgb.predict(test_df.drop(columns='Target'))\n",
    "\n",
    "print(f1_score(test_df.Target, pred, labels=['risk','none'], average=None))\n",
    "confusion_matrix(test_df.Target, pred, labels=['risk','none'])"
   ]
  },
  {
   "cell_type": "code",
   "execution_count": 33,
   "id": "cd9e05d8",
   "metadata": {},
   "outputs": [
    {
     "name": "stdout",
     "output_type": "stream",
     "text": [
      "[0.8562764 0.       ]\n"
     ]
    },
    {
     "data": {
      "text/plain": [
       "array([[47436,     0],\n",
       "       [15924,     0]], dtype=int64)"
      ]
     },
     "execution_count": 33,
     "metadata": {},
     "output_type": "execute_result"
    }
   ],
   "source": [
    "pred = model_gbc.predict(test_df.drop(columns='Target'))\n",
    "\n",
    "print(f1_score(test_df.Target, pred, labels=['risk','none'], average=None))\n",
    "confusion_matrix(test_df.Target, pred, labels=['risk','none'])"
   ]
  },
  {
   "cell_type": "code",
   "execution_count": 36,
   "id": "423ffe33",
   "metadata": {},
   "outputs": [
    {
     "data": {
      "text/plain": [
       "{'C': 1.0,\n",
       " 'class_weight': None,\n",
       " 'dual': False,\n",
       " 'fit_intercept': True,\n",
       " 'intercept_scaling': 1,\n",
       " 'l1_ratio': None,\n",
       " 'max_iter': 100,\n",
       " 'multi_class': 'auto',\n",
       " 'n_jobs': None,\n",
       " 'penalty': 'l2',\n",
       " 'random_state': None,\n",
       " 'solver': 'lbfgs',\n",
       " 'tol': 0.0001,\n",
       " 'verbose': 0,\n",
       " 'warm_start': False}"
      ]
     },
     "execution_count": 36,
     "metadata": {},
     "output_type": "execute_result"
    }
   ],
   "source": [
    "model_lr.get_params()"
   ]
  },
  {
   "cell_type": "code",
   "execution_count": null,
   "id": "765ee4c3",
   "metadata": {},
   "outputs": [],
   "source": []
  },
  {
   "cell_type": "code",
   "execution_count": 46,
   "id": "7378d82d",
   "metadata": {},
   "outputs": [],
   "source": [
    "from sklearn.model_selection import GridSearchCV\n",
    "grid_s_cv = GridSearchCV(estimator=LR(),\n",
    "                        param_grid={'C':[1,10,0.0001, 0.00001],\n",
    "                                    'multi_class':['multinomial'],\n",
    "                                    'penalty':['l2'],\n",
    "                                    'max_iter':[20, 50, 80, 100, 120]\n",
    "                                   }).fit(X_train, y_train)"
   ]
  },
  {
   "cell_type": "code",
   "execution_count": 47,
   "id": "59425d78",
   "metadata": {},
   "outputs": [
    {
     "data": {
      "text/html": [
       "<div>\n",
       "<style scoped>\n",
       "    .dataframe tbody tr th:only-of-type {\n",
       "        vertical-align: middle;\n",
       "    }\n",
       "\n",
       "    .dataframe tbody tr th {\n",
       "        vertical-align: top;\n",
       "    }\n",
       "\n",
       "    .dataframe thead th {\n",
       "        text-align: right;\n",
       "    }\n",
       "</style>\n",
       "<table border=\"1\" class=\"dataframe\">\n",
       "  <thead>\n",
       "    <tr style=\"text-align: right;\">\n",
       "      <th></th>\n",
       "      <th>param_C</th>\n",
       "      <th>param_multi_class</th>\n",
       "      <th>param_penalty</th>\n",
       "      <th>param_max_iter</th>\n",
       "      <th>mean_test_score</th>\n",
       "    </tr>\n",
       "  </thead>\n",
       "  <tbody>\n",
       "    <tr>\n",
       "      <th>0</th>\n",
       "      <td>1</td>\n",
       "      <td>multinomial</td>\n",
       "      <td>l2</td>\n",
       "      <td>20</td>\n",
       "      <td>0.498810</td>\n",
       "    </tr>\n",
       "    <tr>\n",
       "      <th>1</th>\n",
       "      <td>1</td>\n",
       "      <td>multinomial</td>\n",
       "      <td>l2</td>\n",
       "      <td>50</td>\n",
       "      <td>0.498810</td>\n",
       "    </tr>\n",
       "    <tr>\n",
       "      <th>2</th>\n",
       "      <td>1</td>\n",
       "      <td>multinomial</td>\n",
       "      <td>l2</td>\n",
       "      <td>80</td>\n",
       "      <td>0.498810</td>\n",
       "    </tr>\n",
       "    <tr>\n",
       "      <th>3</th>\n",
       "      <td>1</td>\n",
       "      <td>multinomial</td>\n",
       "      <td>l2</td>\n",
       "      <td>100</td>\n",
       "      <td>0.498810</td>\n",
       "    </tr>\n",
       "    <tr>\n",
       "      <th>4</th>\n",
       "      <td>1</td>\n",
       "      <td>multinomial</td>\n",
       "      <td>l2</td>\n",
       "      <td>120</td>\n",
       "      <td>0.498810</td>\n",
       "    </tr>\n",
       "    <tr>\n",
       "      <th>5</th>\n",
       "      <td>10</td>\n",
       "      <td>multinomial</td>\n",
       "      <td>l2</td>\n",
       "      <td>20</td>\n",
       "      <td>0.498823</td>\n",
       "    </tr>\n",
       "    <tr>\n",
       "      <th>6</th>\n",
       "      <td>10</td>\n",
       "      <td>multinomial</td>\n",
       "      <td>l2</td>\n",
       "      <td>50</td>\n",
       "      <td>0.498823</td>\n",
       "    </tr>\n",
       "    <tr>\n",
       "      <th>7</th>\n",
       "      <td>10</td>\n",
       "      <td>multinomial</td>\n",
       "      <td>l2</td>\n",
       "      <td>80</td>\n",
       "      <td>0.498823</td>\n",
       "    </tr>\n",
       "    <tr>\n",
       "      <th>8</th>\n",
       "      <td>10</td>\n",
       "      <td>multinomial</td>\n",
       "      <td>l2</td>\n",
       "      <td>100</td>\n",
       "      <td>0.498823</td>\n",
       "    </tr>\n",
       "    <tr>\n",
       "      <th>9</th>\n",
       "      <td>10</td>\n",
       "      <td>multinomial</td>\n",
       "      <td>l2</td>\n",
       "      <td>120</td>\n",
       "      <td>0.498823</td>\n",
       "    </tr>\n",
       "    <tr>\n",
       "      <th>10</th>\n",
       "      <td>0.0001</td>\n",
       "      <td>multinomial</td>\n",
       "      <td>l2</td>\n",
       "      <td>20</td>\n",
       "      <td>0.498958</td>\n",
       "    </tr>\n",
       "    <tr>\n",
       "      <th>11</th>\n",
       "      <td>0.0001</td>\n",
       "      <td>multinomial</td>\n",
       "      <td>l2</td>\n",
       "      <td>50</td>\n",
       "      <td>0.498958</td>\n",
       "    </tr>\n",
       "    <tr>\n",
       "      <th>12</th>\n",
       "      <td>0.0001</td>\n",
       "      <td>multinomial</td>\n",
       "      <td>l2</td>\n",
       "      <td>80</td>\n",
       "      <td>0.498958</td>\n",
       "    </tr>\n",
       "    <tr>\n",
       "      <th>13</th>\n",
       "      <td>0.0001</td>\n",
       "      <td>multinomial</td>\n",
       "      <td>l2</td>\n",
       "      <td>100</td>\n",
       "      <td>0.498958</td>\n",
       "    </tr>\n",
       "    <tr>\n",
       "      <th>14</th>\n",
       "      <td>0.0001</td>\n",
       "      <td>multinomial</td>\n",
       "      <td>l2</td>\n",
       "      <td>120</td>\n",
       "      <td>0.498958</td>\n",
       "    </tr>\n",
       "    <tr>\n",
       "      <th>15</th>\n",
       "      <td>0.00001</td>\n",
       "      <td>multinomial</td>\n",
       "      <td>l2</td>\n",
       "      <td>20</td>\n",
       "      <td>0.499313</td>\n",
       "    </tr>\n",
       "    <tr>\n",
       "      <th>16</th>\n",
       "      <td>0.00001</td>\n",
       "      <td>multinomial</td>\n",
       "      <td>l2</td>\n",
       "      <td>50</td>\n",
       "      <td>0.499313</td>\n",
       "    </tr>\n",
       "    <tr>\n",
       "      <th>17</th>\n",
       "      <td>0.00001</td>\n",
       "      <td>multinomial</td>\n",
       "      <td>l2</td>\n",
       "      <td>80</td>\n",
       "      <td>0.499313</td>\n",
       "    </tr>\n",
       "    <tr>\n",
       "      <th>18</th>\n",
       "      <td>0.00001</td>\n",
       "      <td>multinomial</td>\n",
       "      <td>l2</td>\n",
       "      <td>100</td>\n",
       "      <td>0.499313</td>\n",
       "    </tr>\n",
       "    <tr>\n",
       "      <th>19</th>\n",
       "      <td>0.00001</td>\n",
       "      <td>multinomial</td>\n",
       "      <td>l2</td>\n",
       "      <td>120</td>\n",
       "      <td>0.499313</td>\n",
       "    </tr>\n",
       "  </tbody>\n",
       "</table>\n",
       "</div>"
      ],
      "text/plain": [
       "    param_C param_multi_class param_penalty param_max_iter  mean_test_score\n",
       "0         1       multinomial            l2             20         0.498810\n",
       "1         1       multinomial            l2             50         0.498810\n",
       "2         1       multinomial            l2             80         0.498810\n",
       "3         1       multinomial            l2            100         0.498810\n",
       "4         1       multinomial            l2            120         0.498810\n",
       "5        10       multinomial            l2             20         0.498823\n",
       "6        10       multinomial            l2             50         0.498823\n",
       "7        10       multinomial            l2             80         0.498823\n",
       "8        10       multinomial            l2            100         0.498823\n",
       "9        10       multinomial            l2            120         0.498823\n",
       "10   0.0001       multinomial            l2             20         0.498958\n",
       "11   0.0001       multinomial            l2             50         0.498958\n",
       "12   0.0001       multinomial            l2             80         0.498958\n",
       "13   0.0001       multinomial            l2            100         0.498958\n",
       "14   0.0001       multinomial            l2            120         0.498958\n",
       "15  0.00001       multinomial            l2             20         0.499313\n",
       "16  0.00001       multinomial            l2             50         0.499313\n",
       "17  0.00001       multinomial            l2             80         0.499313\n",
       "18  0.00001       multinomial            l2            100         0.499313\n",
       "19  0.00001       multinomial            l2            120         0.499313"
      ]
     },
     "execution_count": 47,
     "metadata": {},
     "output_type": "execute_result"
    }
   ],
   "source": [
    "pd.DataFrame(grid_s_cv.cv_results_)[['param_C','param_multi_class','param_penalty','param_max_iter', 'mean_test_score']]"
   ]
  },
  {
   "cell_type": "code",
   "execution_count": 48,
   "id": "9f917f25",
   "metadata": {},
   "outputs": [
    {
     "data": {
      "text/plain": [
       "{'C': 1e-05, 'max_iter': 20, 'multi_class': 'multinomial', 'penalty': 'l2'}"
      ]
     },
     "execution_count": 48,
     "metadata": {},
     "output_type": "execute_result"
    }
   ],
   "source": [
    "grid_s_cv.best_params_"
   ]
  },
  {
   "cell_type": "code",
   "execution_count": 50,
   "id": "3d2ae6a1",
   "metadata": {},
   "outputs": [],
   "source": [
    "model_final = LR(C=1e-05, max_iter= 20, \n",
    "                 multi_class= 'multinomial', penalty= 'l2').fit(X_train,y_train)"
   ]
  },
  {
   "cell_type": "code",
   "execution_count": 53,
   "id": "e1345e35",
   "metadata": {},
   "outputs": [
    {
     "data": {
      "text/plain": [
       "array([[28175,  9696],\n",
       "       [28475,  9720]], dtype=int64)"
      ]
     },
     "execution_count": 53,
     "metadata": {},
     "output_type": "execute_result"
    }
   ],
   "source": [
    "pred = model_final.predict(X_test)\n",
    "confusion_matrix(y_test, pred, labels=['risk','none'])"
   ]
  },
  {
   "cell_type": "code",
   "execution_count": 54,
   "id": "5c77ecc7",
   "metadata": {},
   "outputs": [
    {
     "name": "stdout",
     "output_type": "stream",
     "text": [
      "[0.74824402 0.247237  ]\n"
     ]
    },
    {
     "data": {
      "text/plain": [
       "array([[35527, 11909],\n",
       "       [11998,  3926]], dtype=int64)"
      ]
     },
     "execution_count": 54,
     "metadata": {},
     "output_type": "execute_result"
    }
   ],
   "source": [
    "pred = model_final.predict(test_df.drop(columns='Target'))\n",
    "\n",
    "print(f1_score(test_df.Target, pred, labels=['risk','none'], average=None))\n",
    "confusion_matrix(test_df.Target, pred, labels=['risk','none'])"
   ]
  },
  {
   "cell_type": "code",
   "execution_count": null,
   "id": "4555b9bf",
   "metadata": {},
   "outputs": [],
   "source": []
  },
  {
   "cell_type": "code",
   "execution_count": null,
   "id": "f5426a92",
   "metadata": {},
   "outputs": [],
   "source": []
  }
 ],
 "metadata": {
  "kernelspec": {
   "display_name": "Python 3",
   "language": "python",
   "name": "python3"
  },
  "language_info": {
   "codemirror_mode": {
    "name": "ipython",
    "version": 3
   },
   "file_extension": ".py",
   "mimetype": "text/x-python",
   "name": "python",
   "nbconvert_exporter": "python",
   "pygments_lexer": "ipython3",
   "version": "3.8.5"
  }
 },
 "nbformat": 4,
 "nbformat_minor": 5
}
